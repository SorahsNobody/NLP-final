{
 "cells": [
  {
   "cell_type": "code",
   "execution_count": 1,
   "id": "96488c13",
   "metadata": {},
   "outputs": [],
   "source": [
    "import pickle\n",
    "import pandas as pd\n",
    "import numpy as np"
   ]
  },
  {
   "cell_type": "code",
   "execution_count": 2,
   "id": "c9d5e3e0",
   "metadata": {},
   "outputs": [],
   "source": [
    "from sklearn.metrics import confusion_matrix\n",
    "from statsmodels.stats.contingency_tables import mcnemar"
   ]
  },
  {
   "cell_type": "code",
   "execution_count": null,
   "id": "be55f7e0",
   "metadata": {},
   "outputs": [],
   "source": [
    "def testSignificance(resultsOne, resultsTwo, numFolds):\n",
    "    numSig = 0\n",
    "    sigValue = .05\n",
    "    for x in range(numFolds):\n",
    "        test = pd.DataFrame(data= resultsOne[x])\n",
    "        test2 = pd.DataFrame(data= resultsTwo[x])\n",
    "        conf = confusion_matrix(test, test2)\n",
    "        pValue = mcnemar(conf, exact=False, correction=False).pvalue\n",
    "        if pValue < sigValue:\n",
    "            numSig += 1\n",
    "    if numSig > 2:\n",
    "        return True\n",
    "    else:\n",
    "        return False"
   ]
  },
  {
   "cell_type": "markdown",
   "id": "85d15768",
   "metadata": {},
   "source": [
    "I used NcNemar test but it seem to not be the right one since it is basically suitable for comparering two models trained on same dataset"
   ]
  },
  {
   "cell_type": "code",
   "execution_count": 12,
   "id": "0a015be9",
   "metadata": {},
   "outputs": [],
   "source": [
    "def sign_test (pred_1, pred_2):\n",
    "    signValue = 0.05\n",
    "    cm = confusion_matrix(pred_1, pred_2)\n",
    "    pValue = mcnemar(cm, exact=False, correction=False).pvalue\n",
    "    if pValue < signValue:\n",
    "        return True\n",
    "    else:\n",
    "        return False "
   ]
  },
  {
   "cell_type": "markdown",
   "id": "53bc088d",
   "metadata": {},
   "source": [
    "## Load the prediction results on different feature sets"
   ]
  },
  {
   "cell_type": "code",
   "execution_count": 13,
   "id": "6cc7a7de",
   "metadata": {},
   "outputs": [],
   "source": [
    "pred_all_feat = pickle.load( open( \"pred_results/pred_all_feat.p\", \"rb\" ) ) \n",
    "pred_all_feat_minus_syntax = pickle.load( open( \"pred_results/pred_all_feat_minus_syntax.p\", \"rb\" ) )\n",
    "pred_all_feat_minus_shallow_trad  = pickle.load( open( \"pred_results/pred_all_feat_minus_shallow_trad.p\", \"rb\" ) )\n",
    "pred_all_feat_minus_lex_sem = pickle.load( open( \"pred_results/pred_all_feat_minus_lex_sem.p\", \"rb\" ) ) \n",
    "pred_all_feat_minus_preprocess = pickle.load( open( \"pred_results/pred_all_feat_minus_preprocess.p\", \"rb\" ) ) "
   ]
  },
  {
   "cell_type": "code",
   "execution_count": 14,
   "id": "e4096b56",
   "metadata": {},
   "outputs": [
    {
     "data": {
      "text/plain": [
       "(2059, 2059, 2059, 2059, 2059)"
      ]
     },
     "execution_count": 14,
     "metadata": {},
     "output_type": "execute_result"
    }
   ],
   "source": [
    "len(pred_all_feat), len(pred_all_feat_minus_syntax), len(pred_all_feat_minus_shallow_trad), len(pred_all_feat_minus_lex_sem), len(pred_all_feat_minus_preprocess)\n"
   ]
  },
  {
   "cell_type": "code",
   "execution_count": 15,
   "id": "a6e82c1e",
   "metadata": {},
   "outputs": [],
   "source": [
    "st_all_feat = False\n",
    "st_all_feat_minus_syntax = sign_test(pred_all_feat, pred_all_feat_minus_syntax)\n",
    "st_all_feat_minus_shallow_trad = sign_test(pred_all_feat, pred_all_feat_minus_shallow_trad)\n",
    "st_all_feat_minus_lex_sem = sign_test(pred_all_feat, pred_all_feat_minus_lex_sem)\n",
    "st_all_feat_minus_preprocess = sign_test (pred_all_feat, pred_all_feat_minus_preprocess)"
   ]
  },
  {
   "cell_type": "code",
   "execution_count": 16,
   "id": "6aca5a8f",
   "metadata": {},
   "outputs": [
    {
     "data": {
      "text/plain": [
       "False"
      ]
     },
     "execution_count": 16,
     "metadata": {},
     "output_type": "execute_result"
    }
   ],
   "source": [
    "st_all_feat"
   ]
  },
  {
   "cell_type": "code",
   "execution_count": 17,
   "id": "b362b176",
   "metadata": {},
   "outputs": [
    {
     "data": {
      "text/plain": [
       "False"
      ]
     },
     "execution_count": 17,
     "metadata": {},
     "output_type": "execute_result"
    }
   ],
   "source": [
    "st_all_feat_minus_syntax"
   ]
  },
  {
   "cell_type": "code",
   "execution_count": 18,
   "id": "08c18283",
   "metadata": {},
   "outputs": [
    {
     "data": {
      "text/plain": [
       "False"
      ]
     },
     "execution_count": 18,
     "metadata": {},
     "output_type": "execute_result"
    }
   ],
   "source": [
    "st_all_feat_minus_shallow_trad"
   ]
  },
  {
   "cell_type": "code",
   "execution_count": 19,
   "id": "fa357be3",
   "metadata": {},
   "outputs": [
    {
     "data": {
      "text/plain": [
       "False"
      ]
     },
     "execution_count": 19,
     "metadata": {},
     "output_type": "execute_result"
    }
   ],
   "source": [
    "st_all_feat_minus_lex_sem"
   ]
  },
  {
   "cell_type": "code",
   "execution_count": 20,
   "id": "f4aecd6c",
   "metadata": {},
   "outputs": [
    {
     "data": {
      "text/plain": [
       "False"
      ]
     },
     "execution_count": 20,
     "metadata": {},
     "output_type": "execute_result"
    }
   ],
   "source": [
    "st_all_feat_minus_preprocess"
   ]
  },
  {
   "cell_type": "markdown",
   "id": "f56a9dce",
   "metadata": {},
   "source": [
    "# True positive"
   ]
  },
  {
   "cell_type": "markdown",
   "id": "04c3ed28",
   "metadata": {},
   "source": [
    "## Load data"
   ]
  },
  {
   "cell_type": "code",
   "execution_count": 21,
   "id": "dc6c8621",
   "metadata": {},
   "outputs": [],
   "source": [
    "TP_all_feat = pickle.load( open( \"pred_results/TP_all_feat.p\", \"rb\" ) ) \n",
    "TP_all_feat_minus_lex_sem = pickle.load( open( \"pred_results/TP_all_feat_minus_lex_sem.p\", \"rb\" ) ) \n",
    "TP_all_feat_minus_preprocess = pickle.load( open( \"pred_results/TP_all_feat_minus_preprocess.p\", \"rb\" ) ) \n",
    "TP_all_feat_minus_shallow_trad = pickle.load( open( \"pred_results/TP_all_feat_minus_shallow_trad.p\", \"rb\" ) )\n",
    "TP_all_feat_minus_syntax = pickle.load( open( \"pred_results/TP_all_feat_minus_syntax.p\", \"rb\" ) )\n"
   ]
  },
  {
   "cell_type": "code",
   "execution_count": 22,
   "id": "3f04c7e8",
   "metadata": {},
   "outputs": [],
   "source": [
    "st_TP_all_feat = False\n",
    "st_TP_all_feat_minus_lex_sem = sign_test(TP_all_feat, TP_all_feat_minus_lex_sem)\n",
    "st_TP_all_feat_minus_preprocess = sign_test(TP_all_feat, TP_all_feat_minus_preprocess)\n",
    "st_TP_all_feat_minus_shallow_trad = sign_test(TP_all_feat, TP_all_feat_minus_shallow_trad)\n",
    "st_TP_all_feat_minus_syntax = sign_test (TP_all_feat, TP_all_feat_minus_syntax)"
   ]
  },
  {
   "cell_type": "code",
   "execution_count": 23,
   "id": "cfa10348",
   "metadata": {},
   "outputs": [
    {
     "data": {
      "text/plain": [
       "False"
      ]
     },
     "execution_count": 23,
     "metadata": {},
     "output_type": "execute_result"
    }
   ],
   "source": [
    "st_TP_all_feat"
   ]
  },
  {
   "cell_type": "code",
   "execution_count": 24,
   "id": "b451d10a",
   "metadata": {},
   "outputs": [
    {
     "data": {
      "text/plain": [
       "False"
      ]
     },
     "execution_count": 24,
     "metadata": {},
     "output_type": "execute_result"
    }
   ],
   "source": [
    "st_TP_all_feat_minus_lex_sem"
   ]
  },
  {
   "cell_type": "code",
   "execution_count": 25,
   "id": "0907e752",
   "metadata": {},
   "outputs": [
    {
     "data": {
      "text/plain": [
       "False"
      ]
     },
     "execution_count": 25,
     "metadata": {},
     "output_type": "execute_result"
    }
   ],
   "source": [
    "st_TP_all_feat_minus_preprocess"
   ]
  },
  {
   "cell_type": "code",
   "execution_count": 26,
   "id": "fc5ec83e",
   "metadata": {},
   "outputs": [
    {
     "data": {
      "text/plain": [
       "False"
      ]
     },
     "execution_count": 26,
     "metadata": {},
     "output_type": "execute_result"
    }
   ],
   "source": [
    "st_TP_all_feat_minus_shallow_trad"
   ]
  },
  {
   "cell_type": "code",
   "execution_count": 27,
   "id": "62f44366",
   "metadata": {},
   "outputs": [
    {
     "data": {
      "text/plain": [
       "False"
      ]
     },
     "execution_count": 27,
     "metadata": {},
     "output_type": "execute_result"
    }
   ],
   "source": [
    "st_TP_all_feat_minus_syntax"
   ]
  },
  {
   "cell_type": "code",
   "execution_count": null,
   "id": "47df02d2",
   "metadata": {},
   "outputs": [],
   "source": []
  }
 ],
 "metadata": {
  "kernelspec": {
   "display_name": "Python 3",
   "language": "python",
   "name": "python3"
  },
  "language_info": {
   "codemirror_mode": {
    "name": "ipython",
    "version": 3
   },
   "file_extension": ".py",
   "mimetype": "text/x-python",
   "name": "python",
   "nbconvert_exporter": "python",
   "pygments_lexer": "ipython3",
   "version": "3.8.8"
  }
 },
 "nbformat": 4,
 "nbformat_minor": 5
}
