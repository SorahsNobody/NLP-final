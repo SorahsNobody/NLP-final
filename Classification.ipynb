{
 "cells": [
  {
   "cell_type": "markdown",
   "id": "8ddea9f9",
   "metadata": {},
   "source": [
    "# Classification\n",
    "\n",
    "In this notebook, ..."
   ]
  },
  {
   "cell_type": "code",
   "execution_count": 475,
   "id": "47131298",
   "metadata": {},
   "outputs": [],
   "source": [
    "import pandas as pd\n",
    "import pickle\n",
    "from tqdm import tqdm"
   ]
  },
  {
   "cell_type": "code",
   "execution_count": 289,
   "id": "2dd5c793",
   "metadata": {},
   "outputs": [],
   "source": [
    "from sklearn.svm import SVC\n",
    "from sklearn import linear_model\n",
    "from sklearn import set_config\n",
    "from sklearn.pipeline import Pipeline\n",
    "from sklearn.neural_network import MLPClassifier\n",
    "from sklearn.preprocessing import StandardScaler, MinMaxScaler, FunctionTransformer\n",
    "from sklearn.model_selection import train_test_split, GridSearchCV\n",
    "from sklearn.ensemble import RandomForestClassifier\n",
    "from sklearn.metrics import confusion_matrix, classification_report, ConfusionMatrixDisplay, accuracy_score"
   ]
  },
  {
   "cell_type": "code",
   "execution_count": 290,
   "id": "f97ec270",
   "metadata": {},
   "outputs": [],
   "source": [
    "set_config(display='diagram')"
   ]
  },
  {
   "cell_type": "markdown",
   "id": "4c4a6fbc",
   "metadata": {},
   "source": [
    "## Dataset"
   ]
  },
  {
   "cell_type": "code",
   "execution_count": 291,
   "id": "3786e35d",
   "metadata": {},
   "outputs": [
    {
     "data": {
      "text/html": [
       "<div>\n",
       "<style scoped>\n",
       "    .dataframe tbody tr th:only-of-type {\n",
       "        vertical-align: middle;\n",
       "    }\n",
       "\n",
       "    .dataframe tbody tr th {\n",
       "        vertical-align: top;\n",
       "    }\n",
       "\n",
       "    .dataframe thead th {\n",
       "        text-align: right;\n",
       "    }\n",
       "</style>\n",
       "<table border=\"1\" class=\"dataframe\">\n",
       "  <thead>\n",
       "    <tr style=\"text-align: right;\">\n",
       "      <th></th>\n",
       "      <th>Unnamed: 0</th>\n",
       "      <th>full</th>\n",
       "      <th>clicked</th>\n",
       "      <th>n_token</th>\n",
       "      <th>n_sent</th>\n",
       "      <th>to_NoPhr_C</th>\n",
       "      <th>as_NoPhr_C</th>\n",
       "      <th>at_NoPhr_C</th>\n",
       "      <th>ra_NoVeP_C</th>\n",
       "      <th>ra_NoSuP_C</th>\n",
       "      <th>...</th>\n",
       "      <th>as_FTree_C</th>\n",
       "      <th>at_FTree_C</th>\n",
       "      <th>TokSenM_S</th>\n",
       "      <th>TokSenS_S</th>\n",
       "      <th>TokSenL_S</th>\n",
       "      <th>as_Token_C</th>\n",
       "      <th>as_Sylla_C</th>\n",
       "      <th>at_Sylla_C</th>\n",
       "      <th>as_Chara_C</th>\n",
       "      <th>at_Chara_C</th>\n",
       "    </tr>\n",
       "  </thead>\n",
       "  <tbody>\n",
       "    <tr>\n",
       "      <th>0</th>\n",
       "      <td>0</td>\n",
       "      <td>Incoming Webhooks — Mattermost 5.11 documentat...</td>\n",
       "      <td>1</td>\n",
       "      <td>31</td>\n",
       "      <td>6</td>\n",
       "      <td>10.0</td>\n",
       "      <td>1.666667</td>\n",
       "      <td>0.322581</td>\n",
       "      <td>1.000000</td>\n",
       "      <td>10.0</td>\n",
       "      <td>...</td>\n",
       "      <td>5.833333</td>\n",
       "      <td>1.129032</td>\n",
       "      <td>186.0</td>\n",
       "      <td>13.638182</td>\n",
       "      <td>1.916545</td>\n",
       "      <td>5.166667</td>\n",
       "      <td>10.166667</td>\n",
       "      <td>1.967742</td>\n",
       "      <td>43.333333</td>\n",
       "      <td>8.387097</td>\n",
       "    </tr>\n",
       "    <tr>\n",
       "      <th>1</th>\n",
       "      <td>1</td>\n",
       "      <td>“Hello” Is Facebook's New Android-Only Social ...</td>\n",
       "      <td>0</td>\n",
       "      <td>28</td>\n",
       "      <td>4</td>\n",
       "      <td>14.0</td>\n",
       "      <td>3.500000</td>\n",
       "      <td>0.500000</td>\n",
       "      <td>2.333333</td>\n",
       "      <td>0.0</td>\n",
       "      <td>...</td>\n",
       "      <td>8.750000</td>\n",
       "      <td>1.250000</td>\n",
       "      <td>112.0</td>\n",
       "      <td>10.583005</td>\n",
       "      <td>2.403677</td>\n",
       "      <td>7.000000</td>\n",
       "      <td>10.750000</td>\n",
       "      <td>1.535714</td>\n",
       "      <td>47.250000</td>\n",
       "      <td>6.750000</td>\n",
       "    </tr>\n",
       "    <tr>\n",
       "      <th>2</th>\n",
       "      <td>2</td>\n",
       "      <td>Walkthrough | HTTP Event CollectorHEC tokens a...</td>\n",
       "      <td>0</td>\n",
       "      <td>41</td>\n",
       "      <td>5</td>\n",
       "      <td>15.0</td>\n",
       "      <td>3.000000</td>\n",
       "      <td>0.365854</td>\n",
       "      <td>1.666667</td>\n",
       "      <td>0.0</td>\n",
       "      <td>...</td>\n",
       "      <td>9.200000</td>\n",
       "      <td>1.121951</td>\n",
       "      <td>205.0</td>\n",
       "      <td>14.317821</td>\n",
       "      <td>2.307372</td>\n",
       "      <td>8.200000</td>\n",
       "      <td>13.600000</td>\n",
       "      <td>1.658537</td>\n",
       "      <td>62.400000</td>\n",
       "      <td>7.609756</td>\n",
       "    </tr>\n",
       "    <tr>\n",
       "      <th>3</th>\n",
       "      <td>3</td>\n",
       "      <td>College Scholarships - Scholarships.comMost co...</td>\n",
       "      <td>0</td>\n",
       "      <td>28</td>\n",
       "      <td>3</td>\n",
       "      <td>8.0</td>\n",
       "      <td>2.666667</td>\n",
       "      <td>0.285714</td>\n",
       "      <td>1.000000</td>\n",
       "      <td>0.0</td>\n",
       "      <td>...</td>\n",
       "      <td>11.333333</td>\n",
       "      <td>1.214286</td>\n",
       "      <td>84.0</td>\n",
       "      <td>9.165151</td>\n",
       "      <td>3.033103</td>\n",
       "      <td>9.333333</td>\n",
       "      <td>19.333333</td>\n",
       "      <td>2.071429</td>\n",
       "      <td>82.000000</td>\n",
       "      <td>8.785714</td>\n",
       "    </tr>\n",
       "    <tr>\n",
       "      <th>4</th>\n",
       "      <td>4</td>\n",
       "      <td>How to start sending email — Mailgun API docum...</td>\n",
       "      <td>0</td>\n",
       "      <td>31</td>\n",
       "      <td>5</td>\n",
       "      <td>9.0</td>\n",
       "      <td>1.800000</td>\n",
       "      <td>0.290323</td>\n",
       "      <td>0.642857</td>\n",
       "      <td>1.5</td>\n",
       "      <td>...</td>\n",
       "      <td>6.800000</td>\n",
       "      <td>1.096774</td>\n",
       "      <td>155.0</td>\n",
       "      <td>12.449900</td>\n",
       "      <td>2.133656</td>\n",
       "      <td>6.200000</td>\n",
       "      <td>10.200000</td>\n",
       "      <td>1.645161</td>\n",
       "      <td>50.800000</td>\n",
       "      <td>8.193548</td>\n",
       "    </tr>\n",
       "    <tr>\n",
       "      <th>...</th>\n",
       "      <td>...</td>\n",
       "      <td>...</td>\n",
       "      <td>...</td>\n",
       "      <td>...</td>\n",
       "      <td>...</td>\n",
       "      <td>...</td>\n",
       "      <td>...</td>\n",
       "      <td>...</td>\n",
       "      <td>...</td>\n",
       "      <td>...</td>\n",
       "      <td>...</td>\n",
       "      <td>...</td>\n",
       "      <td>...</td>\n",
       "      <td>...</td>\n",
       "      <td>...</td>\n",
       "      <td>...</td>\n",
       "      <td>...</td>\n",
       "      <td>...</td>\n",
       "      <td>...</td>\n",
       "      <td>...</td>\n",
       "      <td>...</td>\n",
       "    </tr>\n",
       "    <tr>\n",
       "      <th>10287</th>\n",
       "      <td>10287</td>\n",
       "      <td>Science, Technology, Engineering, and Math, in...</td>\n",
       "      <td>1</td>\n",
       "      <td>27</td>\n",
       "      <td>5</td>\n",
       "      <td>17.0</td>\n",
       "      <td>3.400000</td>\n",
       "      <td>0.629630</td>\n",
       "      <td>5.666667</td>\n",
       "      <td>8.5</td>\n",
       "      <td>...</td>\n",
       "      <td>5.400000</td>\n",
       "      <td>1.000000</td>\n",
       "      <td>135.0</td>\n",
       "      <td>11.618950</td>\n",
       "      <td>2.047819</td>\n",
       "      <td>5.400000</td>\n",
       "      <td>11.200000</td>\n",
       "      <td>2.074074</td>\n",
       "      <td>37.400000</td>\n",
       "      <td>6.925926</td>\n",
       "    </tr>\n",
       "    <tr>\n",
       "      <th>10288</th>\n",
       "      <td>10288</td>\n",
       "      <td>Stem Kitchen SFSTEM Kitchen &amp; Garden is a farm...</td>\n",
       "      <td>0</td>\n",
       "      <td>22</td>\n",
       "      <td>2</td>\n",
       "      <td>9.0</td>\n",
       "      <td>4.500000</td>\n",
       "      <td>0.409091</td>\n",
       "      <td>2.250000</td>\n",
       "      <td>9.0</td>\n",
       "      <td>...</td>\n",
       "      <td>12.500000</td>\n",
       "      <td>1.136364</td>\n",
       "      <td>44.0</td>\n",
       "      <td>6.633250</td>\n",
       "      <td>4.459432</td>\n",
       "      <td>11.000000</td>\n",
       "      <td>18.000000</td>\n",
       "      <td>1.636364</td>\n",
       "      <td>69.500000</td>\n",
       "      <td>6.318182</td>\n",
       "    </tr>\n",
       "    <tr>\n",
       "      <th>10289</th>\n",
       "      <td>10289</td>\n",
       "      <td>Stem Definition &amp; Meaning - Merriam-WebsterKid...</td>\n",
       "      <td>0</td>\n",
       "      <td>22</td>\n",
       "      <td>3</td>\n",
       "      <td>12.0</td>\n",
       "      <td>4.000000</td>\n",
       "      <td>0.545455</td>\n",
       "      <td>1.714286</td>\n",
       "      <td>0.0</td>\n",
       "      <td>...</td>\n",
       "      <td>9.333333</td>\n",
       "      <td>1.272727</td>\n",
       "      <td>66.0</td>\n",
       "      <td>8.124038</td>\n",
       "      <td>2.813588</td>\n",
       "      <td>7.333333</td>\n",
       "      <td>13.000000</td>\n",
       "      <td>1.772727</td>\n",
       "      <td>56.333333</td>\n",
       "      <td>7.681818</td>\n",
       "    </tr>\n",
       "    <tr>\n",
       "      <th>10290</th>\n",
       "      <td>10290</td>\n",
       "      <td>Driven By StemStem Holdings has positioned its...</td>\n",
       "      <td>0</td>\n",
       "      <td>19</td>\n",
       "      <td>2</td>\n",
       "      <td>10.0</td>\n",
       "      <td>5.000000</td>\n",
       "      <td>0.526316</td>\n",
       "      <td>1.666667</td>\n",
       "      <td>0.0</td>\n",
       "      <td>...</td>\n",
       "      <td>12.500000</td>\n",
       "      <td>1.315789</td>\n",
       "      <td>38.0</td>\n",
       "      <td>6.164414</td>\n",
       "      <td>4.247928</td>\n",
       "      <td>9.500000</td>\n",
       "      <td>17.500000</td>\n",
       "      <td>1.842105</td>\n",
       "      <td>73.000000</td>\n",
       "      <td>7.684211</td>\n",
       "    </tr>\n",
       "    <tr>\n",
       "      <th>10291</th>\n",
       "      <td>10291</td>\n",
       "      <td>STEM School Highlands Ranch  Never Stop Innova...</td>\n",
       "      <td>0</td>\n",
       "      <td>23</td>\n",
       "      <td>6</td>\n",
       "      <td>5.0</td>\n",
       "      <td>0.833333</td>\n",
       "      <td>0.217391</td>\n",
       "      <td>2.500000</td>\n",
       "      <td>0.0</td>\n",
       "      <td>...</td>\n",
       "      <td>3.166667</td>\n",
       "      <td>0.826087</td>\n",
       "      <td>138.0</td>\n",
       "      <td>11.747340</td>\n",
       "      <td>1.749953</td>\n",
       "      <td>3.833333</td>\n",
       "      <td>8.500000</td>\n",
       "      <td>2.217391</td>\n",
       "      <td>28.833333</td>\n",
       "      <td>7.521739</td>\n",
       "    </tr>\n",
       "  </tbody>\n",
       "</table>\n",
       "<p>10292 rows × 160 columns</p>\n",
       "</div>"
      ],
      "text/plain": [
       "       Unnamed: 0                                               full  clicked  \\\n",
       "0               0  Incoming Webhooks — Mattermost 5.11 documentat...        1   \n",
       "1               1  “Hello” Is Facebook's New Android-Only Social ...        0   \n",
       "2               2  Walkthrough | HTTP Event CollectorHEC tokens a...        0   \n",
       "3               3  College Scholarships - Scholarships.comMost co...        0   \n",
       "4               4  How to start sending email — Mailgun API docum...        0   \n",
       "...           ...                                                ...      ...   \n",
       "10287       10287  Science, Technology, Engineering, and Math, in...        1   \n",
       "10288       10288  Stem Kitchen SFSTEM Kitchen & Garden is a farm...        0   \n",
       "10289       10289  Stem Definition & Meaning - Merriam-WebsterKid...        0   \n",
       "10290       10290  Driven By StemStem Holdings has positioned its...        0   \n",
       "10291       10291  STEM School Highlands Ranch  Never Stop Innova...        0   \n",
       "\n",
       "       n_token  n_sent  to_NoPhr_C  as_NoPhr_C  at_NoPhr_C  ra_NoVeP_C  \\\n",
       "0           31       6        10.0    1.666667    0.322581    1.000000   \n",
       "1           28       4        14.0    3.500000    0.500000    2.333333   \n",
       "2           41       5        15.0    3.000000    0.365854    1.666667   \n",
       "3           28       3         8.0    2.666667    0.285714    1.000000   \n",
       "4           31       5         9.0    1.800000    0.290323    0.642857   \n",
       "...        ...     ...         ...         ...         ...         ...   \n",
       "10287       27       5        17.0    3.400000    0.629630    5.666667   \n",
       "10288       22       2         9.0    4.500000    0.409091    2.250000   \n",
       "10289       22       3        12.0    4.000000    0.545455    1.714286   \n",
       "10290       19       2        10.0    5.000000    0.526316    1.666667   \n",
       "10291       23       6         5.0    0.833333    0.217391    2.500000   \n",
       "\n",
       "       ra_NoSuP_C  ...  as_FTree_C  at_FTree_C  TokSenM_S  TokSenS_S  \\\n",
       "0            10.0  ...    5.833333    1.129032      186.0  13.638182   \n",
       "1             0.0  ...    8.750000    1.250000      112.0  10.583005   \n",
       "2             0.0  ...    9.200000    1.121951      205.0  14.317821   \n",
       "3             0.0  ...   11.333333    1.214286       84.0   9.165151   \n",
       "4             1.5  ...    6.800000    1.096774      155.0  12.449900   \n",
       "...           ...  ...         ...         ...        ...        ...   \n",
       "10287         8.5  ...    5.400000    1.000000      135.0  11.618950   \n",
       "10288         9.0  ...   12.500000    1.136364       44.0   6.633250   \n",
       "10289         0.0  ...    9.333333    1.272727       66.0   8.124038   \n",
       "10290         0.0  ...   12.500000    1.315789       38.0   6.164414   \n",
       "10291         0.0  ...    3.166667    0.826087      138.0  11.747340   \n",
       "\n",
       "       TokSenL_S  as_Token_C  as_Sylla_C  at_Sylla_C  as_Chara_C  at_Chara_C  \n",
       "0       1.916545    5.166667   10.166667    1.967742   43.333333    8.387097  \n",
       "1       2.403677    7.000000   10.750000    1.535714   47.250000    6.750000  \n",
       "2       2.307372    8.200000   13.600000    1.658537   62.400000    7.609756  \n",
       "3       3.033103    9.333333   19.333333    2.071429   82.000000    8.785714  \n",
       "4       2.133656    6.200000   10.200000    1.645161   50.800000    8.193548  \n",
       "...          ...         ...         ...         ...         ...         ...  \n",
       "10287   2.047819    5.400000   11.200000    2.074074   37.400000    6.925926  \n",
       "10288   4.459432   11.000000   18.000000    1.636364   69.500000    6.318182  \n",
       "10289   2.813588    7.333333   13.000000    1.772727   56.333333    7.681818  \n",
       "10290   4.247928    9.500000   17.500000    1.842105   73.000000    7.684211  \n",
       "10291   1.749953    3.833333    8.500000    2.217391   28.833333    7.521739  \n",
       "\n",
       "[10292 rows x 160 columns]"
      ]
     },
     "execution_count": 291,
     "metadata": {},
     "output_type": "execute_result"
    }
   ],
   "source": [
    "all_feat_OG = pd.read_csv('all_feat_final_new.csv')\n",
    "all_feat_OG"
   ]
  },
  {
   "cell_type": "code",
   "execution_count": 292,
   "id": "1ac0e280",
   "metadata": {},
   "outputs": [],
   "source": [
    "all_feat = all_feat_OG.copy()\n",
    "all_feat.drop(columns = ['Unnamed: 0', 'full'], inplace = True, axis=1)\n",
    "all_feat.rename(columns = {'clicked':'class'}, inplace = True)"
   ]
  },
  {
   "cell_type": "code",
   "execution_count": 293,
   "id": "23abb9f8",
   "metadata": {},
   "outputs": [
    {
     "data": {
      "text/html": [
       "<div>\n",
       "<style scoped>\n",
       "    .dataframe tbody tr th:only-of-type {\n",
       "        vertical-align: middle;\n",
       "    }\n",
       "\n",
       "    .dataframe tbody tr th {\n",
       "        vertical-align: top;\n",
       "    }\n",
       "\n",
       "    .dataframe thead th {\n",
       "        text-align: right;\n",
       "    }\n",
       "</style>\n",
       "<table border=\"1\" class=\"dataframe\">\n",
       "  <thead>\n",
       "    <tr style=\"text-align: right;\">\n",
       "      <th></th>\n",
       "      <th>class</th>\n",
       "      <th>n_token</th>\n",
       "      <th>n_sent</th>\n",
       "      <th>to_NoPhr_C</th>\n",
       "      <th>as_NoPhr_C</th>\n",
       "      <th>at_NoPhr_C</th>\n",
       "      <th>ra_NoVeP_C</th>\n",
       "      <th>ra_NoSuP_C</th>\n",
       "      <th>ra_NoPrP_C</th>\n",
       "      <th>ra_NoAjP_C</th>\n",
       "      <th>...</th>\n",
       "      <th>as_FTree_C</th>\n",
       "      <th>at_FTree_C</th>\n",
       "      <th>TokSenM_S</th>\n",
       "      <th>TokSenS_S</th>\n",
       "      <th>TokSenL_S</th>\n",
       "      <th>as_Token_C</th>\n",
       "      <th>as_Sylla_C</th>\n",
       "      <th>at_Sylla_C</th>\n",
       "      <th>as_Chara_C</th>\n",
       "      <th>at_Chara_C</th>\n",
       "    </tr>\n",
       "  </thead>\n",
       "  <tbody>\n",
       "    <tr>\n",
       "      <th>0</th>\n",
       "      <td>1</td>\n",
       "      <td>31</td>\n",
       "      <td>6</td>\n",
       "      <td>10.0</td>\n",
       "      <td>1.666667</td>\n",
       "      <td>0.322581</td>\n",
       "      <td>1.000000</td>\n",
       "      <td>10.0</td>\n",
       "      <td>5.000000</td>\n",
       "      <td>5.0</td>\n",
       "      <td>...</td>\n",
       "      <td>5.833333</td>\n",
       "      <td>1.129032</td>\n",
       "      <td>186.0</td>\n",
       "      <td>13.638182</td>\n",
       "      <td>1.916545</td>\n",
       "      <td>5.166667</td>\n",
       "      <td>10.166667</td>\n",
       "      <td>1.967742</td>\n",
       "      <td>43.333333</td>\n",
       "      <td>8.387097</td>\n",
       "    </tr>\n",
       "    <tr>\n",
       "      <th>1</th>\n",
       "      <td>0</td>\n",
       "      <td>28</td>\n",
       "      <td>4</td>\n",
       "      <td>14.0</td>\n",
       "      <td>3.500000</td>\n",
       "      <td>0.500000</td>\n",
       "      <td>2.333333</td>\n",
       "      <td>0.0</td>\n",
       "      <td>3.500000</td>\n",
       "      <td>0.0</td>\n",
       "      <td>...</td>\n",
       "      <td>8.750000</td>\n",
       "      <td>1.250000</td>\n",
       "      <td>112.0</td>\n",
       "      <td>10.583005</td>\n",
       "      <td>2.403677</td>\n",
       "      <td>7.000000</td>\n",
       "      <td>10.750000</td>\n",
       "      <td>1.535714</td>\n",
       "      <td>47.250000</td>\n",
       "      <td>6.750000</td>\n",
       "    </tr>\n",
       "    <tr>\n",
       "      <th>2</th>\n",
       "      <td>0</td>\n",
       "      <td>41</td>\n",
       "      <td>5</td>\n",
       "      <td>15.0</td>\n",
       "      <td>3.000000</td>\n",
       "      <td>0.365854</td>\n",
       "      <td>1.666667</td>\n",
       "      <td>0.0</td>\n",
       "      <td>2.142857</td>\n",
       "      <td>0.0</td>\n",
       "      <td>...</td>\n",
       "      <td>9.200000</td>\n",
       "      <td>1.121951</td>\n",
       "      <td>205.0</td>\n",
       "      <td>14.317821</td>\n",
       "      <td>2.307372</td>\n",
       "      <td>8.200000</td>\n",
       "      <td>13.600000</td>\n",
       "      <td>1.658537</td>\n",
       "      <td>62.400000</td>\n",
       "      <td>7.609756</td>\n",
       "    </tr>\n",
       "    <tr>\n",
       "      <th>3</th>\n",
       "      <td>0</td>\n",
       "      <td>28</td>\n",
       "      <td>3</td>\n",
       "      <td>8.0</td>\n",
       "      <td>2.666667</td>\n",
       "      <td>0.285714</td>\n",
       "      <td>1.000000</td>\n",
       "      <td>0.0</td>\n",
       "      <td>4.000000</td>\n",
       "      <td>8.0</td>\n",
       "      <td>...</td>\n",
       "      <td>11.333333</td>\n",
       "      <td>1.214286</td>\n",
       "      <td>84.0</td>\n",
       "      <td>9.165151</td>\n",
       "      <td>3.033103</td>\n",
       "      <td>9.333333</td>\n",
       "      <td>19.333333</td>\n",
       "      <td>2.071429</td>\n",
       "      <td>82.000000</td>\n",
       "      <td>8.785714</td>\n",
       "    </tr>\n",
       "    <tr>\n",
       "      <th>4</th>\n",
       "      <td>0</td>\n",
       "      <td>31</td>\n",
       "      <td>5</td>\n",
       "      <td>9.0</td>\n",
       "      <td>1.800000</td>\n",
       "      <td>0.290323</td>\n",
       "      <td>0.642857</td>\n",
       "      <td>1.5</td>\n",
       "      <td>2.250000</td>\n",
       "      <td>4.5</td>\n",
       "      <td>...</td>\n",
       "      <td>6.800000</td>\n",
       "      <td>1.096774</td>\n",
       "      <td>155.0</td>\n",
       "      <td>12.449900</td>\n",
       "      <td>2.133656</td>\n",
       "      <td>6.200000</td>\n",
       "      <td>10.200000</td>\n",
       "      <td>1.645161</td>\n",
       "      <td>50.800000</td>\n",
       "      <td>8.193548</td>\n",
       "    </tr>\n",
       "    <tr>\n",
       "      <th>...</th>\n",
       "      <td>...</td>\n",
       "      <td>...</td>\n",
       "      <td>...</td>\n",
       "      <td>...</td>\n",
       "      <td>...</td>\n",
       "      <td>...</td>\n",
       "      <td>...</td>\n",
       "      <td>...</td>\n",
       "      <td>...</td>\n",
       "      <td>...</td>\n",
       "      <td>...</td>\n",
       "      <td>...</td>\n",
       "      <td>...</td>\n",
       "      <td>...</td>\n",
       "      <td>...</td>\n",
       "      <td>...</td>\n",
       "      <td>...</td>\n",
       "      <td>...</td>\n",
       "      <td>...</td>\n",
       "      <td>...</td>\n",
       "      <td>...</td>\n",
       "    </tr>\n",
       "    <tr>\n",
       "      <th>10287</th>\n",
       "      <td>1</td>\n",
       "      <td>27</td>\n",
       "      <td>5</td>\n",
       "      <td>17.0</td>\n",
       "      <td>3.400000</td>\n",
       "      <td>0.629630</td>\n",
       "      <td>5.666667</td>\n",
       "      <td>8.5</td>\n",
       "      <td>8.500000</td>\n",
       "      <td>0.0</td>\n",
       "      <td>...</td>\n",
       "      <td>5.400000</td>\n",
       "      <td>1.000000</td>\n",
       "      <td>135.0</td>\n",
       "      <td>11.618950</td>\n",
       "      <td>2.047819</td>\n",
       "      <td>5.400000</td>\n",
       "      <td>11.200000</td>\n",
       "      <td>2.074074</td>\n",
       "      <td>37.400000</td>\n",
       "      <td>6.925926</td>\n",
       "    </tr>\n",
       "    <tr>\n",
       "      <th>10288</th>\n",
       "      <td>0</td>\n",
       "      <td>22</td>\n",
       "      <td>2</td>\n",
       "      <td>9.0</td>\n",
       "      <td>4.500000</td>\n",
       "      <td>0.409091</td>\n",
       "      <td>2.250000</td>\n",
       "      <td>9.0</td>\n",
       "      <td>3.000000</td>\n",
       "      <td>9.0</td>\n",
       "      <td>...</td>\n",
       "      <td>12.500000</td>\n",
       "      <td>1.136364</td>\n",
       "      <td>44.0</td>\n",
       "      <td>6.633250</td>\n",
       "      <td>4.459432</td>\n",
       "      <td>11.000000</td>\n",
       "      <td>18.000000</td>\n",
       "      <td>1.636364</td>\n",
       "      <td>69.500000</td>\n",
       "      <td>6.318182</td>\n",
       "    </tr>\n",
       "    <tr>\n",
       "      <th>10289</th>\n",
       "      <td>0</td>\n",
       "      <td>22</td>\n",
       "      <td>3</td>\n",
       "      <td>12.0</td>\n",
       "      <td>4.000000</td>\n",
       "      <td>0.545455</td>\n",
       "      <td>1.714286</td>\n",
       "      <td>0.0</td>\n",
       "      <td>2.000000</td>\n",
       "      <td>0.0</td>\n",
       "      <td>...</td>\n",
       "      <td>9.333333</td>\n",
       "      <td>1.272727</td>\n",
       "      <td>66.0</td>\n",
       "      <td>8.124038</td>\n",
       "      <td>2.813588</td>\n",
       "      <td>7.333333</td>\n",
       "      <td>13.000000</td>\n",
       "      <td>1.772727</td>\n",
       "      <td>56.333333</td>\n",
       "      <td>7.681818</td>\n",
       "    </tr>\n",
       "    <tr>\n",
       "      <th>10290</th>\n",
       "      <td>0</td>\n",
       "      <td>19</td>\n",
       "      <td>2</td>\n",
       "      <td>10.0</td>\n",
       "      <td>5.000000</td>\n",
       "      <td>0.526316</td>\n",
       "      <td>1.666667</td>\n",
       "      <td>0.0</td>\n",
       "      <td>2.000000</td>\n",
       "      <td>0.0</td>\n",
       "      <td>...</td>\n",
       "      <td>12.500000</td>\n",
       "      <td>1.315789</td>\n",
       "      <td>38.0</td>\n",
       "      <td>6.164414</td>\n",
       "      <td>4.247928</td>\n",
       "      <td>9.500000</td>\n",
       "      <td>17.500000</td>\n",
       "      <td>1.842105</td>\n",
       "      <td>73.000000</td>\n",
       "      <td>7.684211</td>\n",
       "    </tr>\n",
       "    <tr>\n",
       "      <th>10291</th>\n",
       "      <td>0</td>\n",
       "      <td>23</td>\n",
       "      <td>6</td>\n",
       "      <td>5.0</td>\n",
       "      <td>0.833333</td>\n",
       "      <td>0.217391</td>\n",
       "      <td>2.500000</td>\n",
       "      <td>0.0</td>\n",
       "      <td>5.000000</td>\n",
       "      <td>0.0</td>\n",
       "      <td>...</td>\n",
       "      <td>3.166667</td>\n",
       "      <td>0.826087</td>\n",
       "      <td>138.0</td>\n",
       "      <td>11.747340</td>\n",
       "      <td>1.749953</td>\n",
       "      <td>3.833333</td>\n",
       "      <td>8.500000</td>\n",
       "      <td>2.217391</td>\n",
       "      <td>28.833333</td>\n",
       "      <td>7.521739</td>\n",
       "    </tr>\n",
       "  </tbody>\n",
       "</table>\n",
       "<p>10292 rows × 158 columns</p>\n",
       "</div>"
      ],
      "text/plain": [
       "       class  n_token  n_sent  to_NoPhr_C  as_NoPhr_C  at_NoPhr_C  ra_NoVeP_C  \\\n",
       "0          1       31       6        10.0    1.666667    0.322581    1.000000   \n",
       "1          0       28       4        14.0    3.500000    0.500000    2.333333   \n",
       "2          0       41       5        15.0    3.000000    0.365854    1.666667   \n",
       "3          0       28       3         8.0    2.666667    0.285714    1.000000   \n",
       "4          0       31       5         9.0    1.800000    0.290323    0.642857   \n",
       "...      ...      ...     ...         ...         ...         ...         ...   \n",
       "10287      1       27       5        17.0    3.400000    0.629630    5.666667   \n",
       "10288      0       22       2         9.0    4.500000    0.409091    2.250000   \n",
       "10289      0       22       3        12.0    4.000000    0.545455    1.714286   \n",
       "10290      0       19       2        10.0    5.000000    0.526316    1.666667   \n",
       "10291      0       23       6         5.0    0.833333    0.217391    2.500000   \n",
       "\n",
       "       ra_NoSuP_C  ra_NoPrP_C  ra_NoAjP_C  ...  as_FTree_C  at_FTree_C  \\\n",
       "0            10.0    5.000000         5.0  ...    5.833333    1.129032   \n",
       "1             0.0    3.500000         0.0  ...    8.750000    1.250000   \n",
       "2             0.0    2.142857         0.0  ...    9.200000    1.121951   \n",
       "3             0.0    4.000000         8.0  ...   11.333333    1.214286   \n",
       "4             1.5    2.250000         4.5  ...    6.800000    1.096774   \n",
       "...           ...         ...         ...  ...         ...         ...   \n",
       "10287         8.5    8.500000         0.0  ...    5.400000    1.000000   \n",
       "10288         9.0    3.000000         9.0  ...   12.500000    1.136364   \n",
       "10289         0.0    2.000000         0.0  ...    9.333333    1.272727   \n",
       "10290         0.0    2.000000         0.0  ...   12.500000    1.315789   \n",
       "10291         0.0    5.000000         0.0  ...    3.166667    0.826087   \n",
       "\n",
       "       TokSenM_S  TokSenS_S  TokSenL_S  as_Token_C  as_Sylla_C  at_Sylla_C  \\\n",
       "0          186.0  13.638182   1.916545    5.166667   10.166667    1.967742   \n",
       "1          112.0  10.583005   2.403677    7.000000   10.750000    1.535714   \n",
       "2          205.0  14.317821   2.307372    8.200000   13.600000    1.658537   \n",
       "3           84.0   9.165151   3.033103    9.333333   19.333333    2.071429   \n",
       "4          155.0  12.449900   2.133656    6.200000   10.200000    1.645161   \n",
       "...          ...        ...        ...         ...         ...         ...   \n",
       "10287      135.0  11.618950   2.047819    5.400000   11.200000    2.074074   \n",
       "10288       44.0   6.633250   4.459432   11.000000   18.000000    1.636364   \n",
       "10289       66.0   8.124038   2.813588    7.333333   13.000000    1.772727   \n",
       "10290       38.0   6.164414   4.247928    9.500000   17.500000    1.842105   \n",
       "10291      138.0  11.747340   1.749953    3.833333    8.500000    2.217391   \n",
       "\n",
       "       as_Chara_C  at_Chara_C  \n",
       "0       43.333333    8.387097  \n",
       "1       47.250000    6.750000  \n",
       "2       62.400000    7.609756  \n",
       "3       82.000000    8.785714  \n",
       "4       50.800000    8.193548  \n",
       "...           ...         ...  \n",
       "10287   37.400000    6.925926  \n",
       "10288   69.500000    6.318182  \n",
       "10289   56.333333    7.681818  \n",
       "10290   73.000000    7.684211  \n",
       "10291   28.833333    7.521739  \n",
       "\n",
       "[10292 rows x 158 columns]"
      ]
     },
     "execution_count": 293,
     "metadata": {},
     "output_type": "execute_result"
    }
   ],
   "source": [
    "all_feat"
   ]
  },
  {
   "cell_type": "code",
   "execution_count": 294,
   "id": "c59b019a",
   "metadata": {},
   "outputs": [
    {
     "data": {
      "text/plain": [
       "0    0.56986\n",
       "1    0.43014\n",
       "Name: class, dtype: float64"
      ]
     },
     "execution_count": 294,
     "metadata": {},
     "output_type": "execute_result"
    }
   ],
   "source": [
    "all_feat['class'].value_counts(normalize = True)"
   ]
  },
  {
   "cell_type": "markdown",
   "id": "95ac4b39",
   "metadata": {},
   "source": [
    "## Split train and test"
   ]
  },
  {
   "cell_type": "code",
   "execution_count": 295,
   "id": "4856db92",
   "metadata": {},
   "outputs": [],
   "source": [
    "X, y = all_feat.drop('class', axis=1), all_feat['class']\n",
    "X_train, X_test, y_train, y_test = train_test_split(X, y, \n",
    "                                                    test_size=0.2, stratify=y,\n",
    "                                                   random_state=42)"
   ]
  },
  {
   "cell_type": "code",
   "execution_count": 296,
   "id": "ae5e1646",
   "metadata": {},
   "outputs": [
    {
     "data": {
      "text/plain": [
       "((8233, 157), (8233,))"
      ]
     },
     "execution_count": 296,
     "metadata": {},
     "output_type": "execute_result"
    }
   ],
   "source": [
    "X_train.shape, y_train.shape"
   ]
  },
  {
   "cell_type": "code",
   "execution_count": 297,
   "id": "e4e0a361",
   "metadata": {},
   "outputs": [],
   "source": [
    "# Split the training set into training and validation sets\n",
    "X_train, X_val, y_train, y_val = train_test_split(X_train, y_train, test_size=0.2, random_state=42, stratify=y_train)\n"
   ]
  },
  {
   "cell_type": "code",
   "execution_count": 298,
   "id": "c4ddb3aa",
   "metadata": {},
   "outputs": [
    {
     "data": {
      "text/plain": [
       "((6586, 157), (6586,))"
      ]
     },
     "execution_count": 298,
     "metadata": {},
     "output_type": "execute_result"
    }
   ],
   "source": [
    "X_train.shape, y_train.shape"
   ]
  },
  {
   "cell_type": "code",
   "execution_count": 299,
   "id": "764038e6",
   "metadata": {},
   "outputs": [
    {
     "data": {
      "text/plain": [
       "((1647, 157), (1647,))"
      ]
     },
     "execution_count": 299,
     "metadata": {},
     "output_type": "execute_result"
    }
   ],
   "source": [
    "X_val.shape, y_val.shape"
   ]
  },
  {
   "cell_type": "markdown",
   "id": "ca085e67",
   "metadata": {},
   "source": [
    "## Models"
   ]
  },
  {
   "cell_type": "markdown",
   "id": "ae91d7b0",
   "metadata": {},
   "source": [
    "### 1. Random Forest (rf)"
   ]
  },
  {
   "cell_type": "code",
   "execution_count": 368,
   "id": "7d5f626c",
   "metadata": {},
   "outputs": [
    {
     "name": "stdout",
     "output_type": "stream",
     "text": [
      "CPU times: user 8 µs, sys: 1 µs, total: 9 µs\n",
      "Wall time: 21 µs\n"
     ]
    },
    {
     "data": {
      "text/html": [
       "<style>div.sk-top-container {color: black;background-color: white;}div.sk-toggleable {background-color: white;}label.sk-toggleable__label {cursor: pointer;display: block;width: 100%;margin-bottom: 0;padding: 0.2em 0.3em;box-sizing: border-box;text-align: center;}div.sk-toggleable__content {max-height: 0;max-width: 0;overflow: hidden;text-align: left;background-color: #f0f8ff;}div.sk-toggleable__content pre {margin: 0.2em;color: black;border-radius: 0.25em;background-color: #f0f8ff;}input.sk-toggleable__control:checked~div.sk-toggleable__content {max-height: 200px;max-width: 100%;overflow: auto;}div.sk-estimator input.sk-toggleable__control:checked~label.sk-toggleable__label {background-color: #d4ebff;}div.sk-label input.sk-toggleable__control:checked~label.sk-toggleable__label {background-color: #d4ebff;}input.sk-hidden--visually {border: 0;clip: rect(1px 1px 1px 1px);clip: rect(1px, 1px, 1px, 1px);height: 1px;margin: -1px;overflow: hidden;padding: 0;position: absolute;width: 1px;}div.sk-estimator {font-family: monospace;background-color: #f0f8ff;margin: 0.25em 0.25em;border: 1px dotted black;border-radius: 0.25em;box-sizing: border-box;}div.sk-estimator:hover {background-color: #d4ebff;}div.sk-parallel-item::after {content: \"\";width: 100%;border-bottom: 1px solid gray;flex-grow: 1;}div.sk-label:hover label.sk-toggleable__label {background-color: #d4ebff;}div.sk-serial::before {content: \"\";position: absolute;border-left: 1px solid gray;box-sizing: border-box;top: 2em;bottom: 0;left: 50%;}div.sk-serial {display: flex;flex-direction: column;align-items: center;background-color: white;}div.sk-item {z-index: 1;}div.sk-parallel {display: flex;align-items: stretch;justify-content: center;background-color: white;}div.sk-parallel-item {display: flex;flex-direction: column;position: relative;background-color: white;}div.sk-parallel-item:first-child::after {align-self: flex-end;width: 50%;}div.sk-parallel-item:last-child::after {align-self: flex-start;width: 50%;}div.sk-parallel-item:only-child::after {width: 0;}div.sk-dashed-wrapped {border: 1px dashed gray;margin: 0.2em;box-sizing: border-box;padding-bottom: 0.1em;background-color: white;position: relative;}div.sk-label label {font-family: monospace;font-weight: bold;background-color: white;display: inline-block;line-height: 1.2em;}div.sk-label-container {position: relative;z-index: 2;text-align: center;}div.sk-container {display: inline-block;position: relative;}</style><div class=\"sk-top-container\"><div class=\"sk-container\"><div class=\"sk-item sk-dashed-wrapped\"><div class=\"sk-label-container\"><div class=\"sk-label sk-toggleable\"><input class=\"sk-toggleable__control sk-hidden--visually\" id=\"78d6ca05-b71f-43af-a336-a7d7565f35ca\" type=\"checkbox\" ><label class=\"sk-toggleable__label\" for=\"78d6ca05-b71f-43af-a336-a7d7565f35ca\">Pipeline</label><div class=\"sk-toggleable__content\"><pre>Pipeline(steps=[('scaler', StandardScaler()),\n",
       "                ('model', RandomForestClassifier(n_jobs=-1, random_state=42))])</pre></div></div></div><div class=\"sk-serial\"><div class=\"sk-item\"><div class=\"sk-estimator sk-toggleable\"><input class=\"sk-toggleable__control sk-hidden--visually\" id=\"f71219a1-7ca4-4e66-a389-d7d2d452b70d\" type=\"checkbox\" ><label class=\"sk-toggleable__label\" for=\"f71219a1-7ca4-4e66-a389-d7d2d452b70d\">StandardScaler</label><div class=\"sk-toggleable__content\"><pre>StandardScaler()</pre></div></div></div><div class=\"sk-item\"><div class=\"sk-estimator sk-toggleable\"><input class=\"sk-toggleable__control sk-hidden--visually\" id=\"a1030a94-e5bf-4d32-af40-11f03bfafed5\" type=\"checkbox\" ><label class=\"sk-toggleable__label\" for=\"a1030a94-e5bf-4d32-af40-11f03bfafed5\">RandomForestClassifier</label><div class=\"sk-toggleable__content\"><pre>RandomForestClassifier(n_jobs=-1, random_state=42)</pre></div></div></div></div></div></div></div>"
      ],
      "text/plain": [
       "Pipeline(steps=[('scaler', StandardScaler()),\n",
       "                ('model', RandomForestClassifier(n_jobs=-1, random_state=42))])"
      ]
     },
     "execution_count": 368,
     "metadata": {},
     "output_type": "execute_result"
    }
   ],
   "source": [
    "%time\n",
    "rfc_pipeline = Pipeline(steps=[\n",
    "    ('scaler', StandardScaler()),\n",
    "    ('model', RandomForestClassifier(random_state=42, n_jobs=-1))\n",
    "])\n",
    "\n",
    "rfc_pipeline.fit(X_train, y_train)"
   ]
  },
  {
   "cell_type": "code",
   "execution_count": 369,
   "id": "c343ff37",
   "metadata": {},
   "outputs": [
    {
     "name": "stdout",
     "output_type": "stream",
     "text": [
      "CPU times: user 6 µs, sys: 1e+03 ns, total: 7 µs\n",
      "Wall time: 13.1 µs\n"
     ]
    }
   ],
   "source": [
    "%time\n",
    "pred_rfc = rfc_pipeline.predict(X_test)\n",
    "cm_rf = confusion_matrix(y_true=y_test, y_pred=pred_rfc, labels= rfc_pipeline.classes_)\n",
    "disp = ConfusionMatrixDisplay(confusion_matrix=cm_rf, display_labels=rfc_pipeline.classes_)"
   ]
  },
  {
   "cell_type": "code",
   "execution_count": 302,
   "id": "fc147311",
   "metadata": {},
   "outputs": [],
   "source": [
    "FP=cm_rf[0,1]\n",
    "FN=cm_rf[1,0]\n",
    "TP=cm_rf[1,1]\n",
    "TN=cm_rf[0,0]\n",
    "\n",
    "TPR=TP/(TP+FN)\n",
    "TNR=TN/(TN+FP)\n",
    "FPR=FP/(FP+TN)\n",
    "FNR=FN/(TP+FN)"
   ]
  },
  {
   "cell_type": "code",
   "execution_count": 303,
   "id": "96e4b7a7",
   "metadata": {},
   "outputs": [
    {
     "data": {
      "text/plain": [
       "(0.7618510158013544,\n",
       " 0.8976982097186701,\n",
       " 0.10230179028132992,\n",
       " 0.2381489841986456)"
      ]
     },
     "execution_count": 303,
     "metadata": {},
     "output_type": "execute_result"
    }
   ],
   "source": [
    "TPR, TNR, FPR, FNR"
   ]
  },
  {
   "cell_type": "code",
   "execution_count": 304,
   "id": "2852cd4a",
   "metadata": {},
   "outputs": [
    {
     "name": "stdout",
     "output_type": "stream",
     "text": [
      "              precision    recall  f1-score   support\n",
      "\n",
      "           0      0.833     0.898     0.864      1173\n",
      "           1      0.849     0.762     0.803       886\n",
      "\n",
      "    accuracy                          0.839      2059\n",
      "   macro avg      0.841     0.830     0.834      2059\n",
      "weighted avg      0.840     0.839     0.838      2059\n",
      "\n"
     ]
    }
   ],
   "source": [
    "print(classification_report(y_true=y_test, y_pred=pred_rfc,\n",
    "                            labels= rfc_pipeline.classes_, digits=3))"
   ]
  },
  {
   "cell_type": "code",
   "execution_count": 305,
   "id": "082f0fa9",
   "metadata": {},
   "outputs": [
    {
     "data": {
      "text/plain": [
       "0.8392423506556581"
      ]
     },
     "execution_count": 305,
     "metadata": {},
     "output_type": "execute_result"
    }
   ],
   "source": [
    "acc_rfc = accuracy_score(y_test, pred_rfc)\n",
    "acc_rfc"
   ]
  },
  {
   "cell_type": "markdown",
   "id": "a4587e7b",
   "metadata": {},
   "source": [
    "#### Tune RF Hyperparameter"
   ]
  },
  {
   "cell_type": "markdown",
   "id": "5e79b13d",
   "metadata": {},
   "source": [
    "The following code take a quite long to run"
   ]
  },
  {
   "cell_type": "code",
   "execution_count": 365,
   "id": "f79a9915",
   "metadata": {},
   "outputs": [],
   "source": [
    "import time"
   ]
  },
  {
   "cell_type": "code",
   "execution_count": 427,
   "id": "c5b08157",
   "metadata": {},
   "outputs": [
    {
     "name": "stdout",
     "output_type": "stream",
     "text": [
      "CPU times: user 4 µs, sys: 12 µs, total: 16 µs\n",
      "Wall time: 29.1 µs\n",
      "Fitting 5 folds for each of 36 candidates, totalling 180 fits\n"
     ]
    },
    {
     "data": {
      "text/html": [
       "<style>div.sk-top-container {color: black;background-color: white;}div.sk-toggleable {background-color: white;}label.sk-toggleable__label {cursor: pointer;display: block;width: 100%;margin-bottom: 0;padding: 0.2em 0.3em;box-sizing: border-box;text-align: center;}div.sk-toggleable__content {max-height: 0;max-width: 0;overflow: hidden;text-align: left;background-color: #f0f8ff;}div.sk-toggleable__content pre {margin: 0.2em;color: black;border-radius: 0.25em;background-color: #f0f8ff;}input.sk-toggleable__control:checked~div.sk-toggleable__content {max-height: 200px;max-width: 100%;overflow: auto;}div.sk-estimator input.sk-toggleable__control:checked~label.sk-toggleable__label {background-color: #d4ebff;}div.sk-label input.sk-toggleable__control:checked~label.sk-toggleable__label {background-color: #d4ebff;}input.sk-hidden--visually {border: 0;clip: rect(1px 1px 1px 1px);clip: rect(1px, 1px, 1px, 1px);height: 1px;margin: -1px;overflow: hidden;padding: 0;position: absolute;width: 1px;}div.sk-estimator {font-family: monospace;background-color: #f0f8ff;margin: 0.25em 0.25em;border: 1px dotted black;border-radius: 0.25em;box-sizing: border-box;}div.sk-estimator:hover {background-color: #d4ebff;}div.sk-parallel-item::after {content: \"\";width: 100%;border-bottom: 1px solid gray;flex-grow: 1;}div.sk-label:hover label.sk-toggleable__label {background-color: #d4ebff;}div.sk-serial::before {content: \"\";position: absolute;border-left: 1px solid gray;box-sizing: border-box;top: 2em;bottom: 0;left: 50%;}div.sk-serial {display: flex;flex-direction: column;align-items: center;background-color: white;}div.sk-item {z-index: 1;}div.sk-parallel {display: flex;align-items: stretch;justify-content: center;background-color: white;}div.sk-parallel-item {display: flex;flex-direction: column;position: relative;background-color: white;}div.sk-parallel-item:first-child::after {align-self: flex-end;width: 50%;}div.sk-parallel-item:last-child::after {align-self: flex-start;width: 50%;}div.sk-parallel-item:only-child::after {width: 0;}div.sk-dashed-wrapped {border: 1px dashed gray;margin: 0.2em;box-sizing: border-box;padding-bottom: 0.1em;background-color: white;position: relative;}div.sk-label label {font-family: monospace;font-weight: bold;background-color: white;display: inline-block;line-height: 1.2em;}div.sk-label-container {position: relative;z-index: 2;text-align: center;}div.sk-container {display: inline-block;position: relative;}</style><div class=\"sk-top-container\"><div class=\"sk-container\"><div class=\"sk-item sk-dashed-wrapped\"><div class=\"sk-label-container\"><div class=\"sk-label sk-toggleable\"><input class=\"sk-toggleable__control sk-hidden--visually\" id=\"53684183-816f-4b06-aac0-71e5c9bfd161\" type=\"checkbox\" ><label class=\"sk-toggleable__label\" for=\"53684183-816f-4b06-aac0-71e5c9bfd161\">GridSearchCV</label><div class=\"sk-toggleable__content\"><pre>GridSearchCV(cv=5,\n",
       "             estimator=Pipeline(steps=[('scaler', StandardScaler()),\n",
       "                                       ('model',\n",
       "                                        RandomForestClassifier(max_features=0.75,\n",
       "                                                               n_jobs=-1,\n",
       "                                                               random_state=42))]),\n",
       "             n_jobs=-1,\n",
       "             param_grid={'model__criterion': ['gini', 'entropy'],\n",
       "                         'model__max_depth': [None, 20],\n",
       "                         'model__max_features': ['sqrt', 'log2', None],\n",
       "                         'model__min_samples_split': [2],\n",
       "                         'model__n_estimators': [100, 200, 500]},\n",
       "             verbose=1)</pre></div></div></div><div class=\"sk-parallel\"><div class=\"sk-parallel-item\"><div class=\"sk-item\"><div class=\"sk-serial\"><div class=\"sk-item\"><div class=\"sk-serial\"><div class=\"sk-item\"><div class=\"sk-estimator sk-toggleable\"><input class=\"sk-toggleable__control sk-hidden--visually\" id=\"043f1ac2-afb3-409b-8194-36d6110068d2\" type=\"checkbox\" ><label class=\"sk-toggleable__label\" for=\"043f1ac2-afb3-409b-8194-36d6110068d2\">StandardScaler</label><div class=\"sk-toggleable__content\"><pre>StandardScaler()</pre></div></div></div><div class=\"sk-item\"><div class=\"sk-estimator sk-toggleable\"><input class=\"sk-toggleable__control sk-hidden--visually\" id=\"6dd6c10b-4fed-42e2-8d8d-a01293713749\" type=\"checkbox\" ><label class=\"sk-toggleable__label\" for=\"6dd6c10b-4fed-42e2-8d8d-a01293713749\">RandomForestClassifier</label><div class=\"sk-toggleable__content\"><pre>RandomForestClassifier(max_features=0.75, n_jobs=-1, random_state=42)</pre></div></div></div></div></div></div></div></div></div></div></div></div>"
      ],
      "text/plain": [
       "GridSearchCV(cv=5,\n",
       "             estimator=Pipeline(steps=[('scaler', StandardScaler()),\n",
       "                                       ('model',\n",
       "                                        RandomForestClassifier(max_features=0.75,\n",
       "                                                               n_jobs=-1,\n",
       "                                                               random_state=42))]),\n",
       "             n_jobs=-1,\n",
       "             param_grid={'model__criterion': ['gini', 'entropy'],\n",
       "                         'model__max_depth': [None, 20],\n",
       "                         'model__max_features': ['sqrt', 'log2', None],\n",
       "                         'model__min_samples_split': [2],\n",
       "                         'model__n_estimators': [100, 200, 500]},\n",
       "             verbose=1)"
      ]
     },
     "execution_count": 427,
     "metadata": {},
     "output_type": "execute_result"
    }
   ],
   "source": [
    "# import time\n",
    "%time\n",
    "param_spec = {\n",
    "    'model__n_estimators': [100, 200, 500],\n",
    "    'model__criterion': ['gini', 'entropy'],\n",
    "    'model__max_depth': [None, 20],\n",
    "    'model__min_samples_split': [2], # -> 2,5 the same acc\n",
    "    'model__max_features': ['sqrt', 'log2', None] #\n",
    "}\n",
    "\n",
    "rf_cv = GridSearchCV(estimator=rfc_pipeline, param_grid=param_spec,\n",
    "                    n_jobs=-1, verbose=1, refit=True, cv=5)\n",
    "# for i in tqdm(param_spec):\n",
    "rf_cv.fit(X_train, y_train)"
   ]
  },
  {
   "cell_type": "code",
   "execution_count": 428,
   "id": "c70d3d81",
   "metadata": {},
   "outputs": [
    {
     "data": {
      "text/plain": [
       "{'model__criterion': 'entropy',\n",
       " 'model__max_depth': None,\n",
       " 'model__max_features': 'log2',\n",
       " 'model__min_samples_split': 2,\n",
       " 'model__n_estimators': 200}"
      ]
     },
     "execution_count": 428,
     "metadata": {},
     "output_type": "execute_result"
    }
   ],
   "source": [
    "rf_cv.best_params_"
   ]
  },
  {
   "cell_type": "code",
   "execution_count": 429,
   "id": "8b143f73",
   "metadata": {},
   "outputs": [
    {
     "data": {
      "text/plain": [
       "0.843351548269581"
      ]
     },
     "execution_count": 429,
     "metadata": {},
     "output_type": "execute_result"
    }
   ],
   "source": [
    "y_pred_rfc = rf_cv.predict(X_val)\n",
    "acc_val = accuracy_score(y_val, y_pred_rfc)\n",
    "acc_val"
   ]
  },
  {
   "cell_type": "code",
   "execution_count": 437,
   "id": "eefaa3fc",
   "metadata": {},
   "outputs": [
    {
     "name": "stdout",
     "output_type": "stream",
     "text": [
      "              precision    recall  f1-score   support\n",
      "\n",
      "           0      0.834     0.898     0.865      1173\n",
      "           1      0.849     0.764     0.805       886\n",
      "\n",
      "    accuracy                          0.840      2059\n",
      "   macro avg      0.842     0.831     0.835      2059\n",
      "weighted avg      0.841     0.840     0.839      2059\n",
      "\n"
     ]
    }
   ],
   "source": [
    "yt_pred_rf_cv = rf_cv.predict(X_test)\n",
    "print(classification_report(y_true=y_test, y_pred=yt_pred_rf_cv,\n",
    "                            labels= svc_pipeline.classes_, digits=3))"
   ]
  },
  {
   "cell_type": "markdown",
   "id": "c36522e4",
   "metadata": {},
   "source": [
    "The code below is for testing different parameter so to know the one t0 use for grid search"
   ]
  },
  {
   "cell_type": "code",
   "execution_count": 425,
   "id": "7dcc9f65",
   "metadata": {},
   "outputs": [
    {
     "name": "stdout",
     "output_type": "stream",
     "text": [
      "CPU times: user 6 µs, sys: 1 µs, total: 7 µs\n",
      "Wall time: 15 µs\n"
     ]
    },
    {
     "data": {
      "text/html": [
       "<style>div.sk-top-container {color: black;background-color: white;}div.sk-toggleable {background-color: white;}label.sk-toggleable__label {cursor: pointer;display: block;width: 100%;margin-bottom: 0;padding: 0.2em 0.3em;box-sizing: border-box;text-align: center;}div.sk-toggleable__content {max-height: 0;max-width: 0;overflow: hidden;text-align: left;background-color: #f0f8ff;}div.sk-toggleable__content pre {margin: 0.2em;color: black;border-radius: 0.25em;background-color: #f0f8ff;}input.sk-toggleable__control:checked~div.sk-toggleable__content {max-height: 200px;max-width: 100%;overflow: auto;}div.sk-estimator input.sk-toggleable__control:checked~label.sk-toggleable__label {background-color: #d4ebff;}div.sk-label input.sk-toggleable__control:checked~label.sk-toggleable__label {background-color: #d4ebff;}input.sk-hidden--visually {border: 0;clip: rect(1px 1px 1px 1px);clip: rect(1px, 1px, 1px, 1px);height: 1px;margin: -1px;overflow: hidden;padding: 0;position: absolute;width: 1px;}div.sk-estimator {font-family: monospace;background-color: #f0f8ff;margin: 0.25em 0.25em;border: 1px dotted black;border-radius: 0.25em;box-sizing: border-box;}div.sk-estimator:hover {background-color: #d4ebff;}div.sk-parallel-item::after {content: \"\";width: 100%;border-bottom: 1px solid gray;flex-grow: 1;}div.sk-label:hover label.sk-toggleable__label {background-color: #d4ebff;}div.sk-serial::before {content: \"\";position: absolute;border-left: 1px solid gray;box-sizing: border-box;top: 2em;bottom: 0;left: 50%;}div.sk-serial {display: flex;flex-direction: column;align-items: center;background-color: white;}div.sk-item {z-index: 1;}div.sk-parallel {display: flex;align-items: stretch;justify-content: center;background-color: white;}div.sk-parallel-item {display: flex;flex-direction: column;position: relative;background-color: white;}div.sk-parallel-item:first-child::after {align-self: flex-end;width: 50%;}div.sk-parallel-item:last-child::after {align-self: flex-start;width: 50%;}div.sk-parallel-item:only-child::after {width: 0;}div.sk-dashed-wrapped {border: 1px dashed gray;margin: 0.2em;box-sizing: border-box;padding-bottom: 0.1em;background-color: white;position: relative;}div.sk-label label {font-family: monospace;font-weight: bold;background-color: white;display: inline-block;line-height: 1.2em;}div.sk-label-container {position: relative;z-index: 2;text-align: center;}div.sk-container {display: inline-block;position: relative;}</style><div class=\"sk-top-container\"><div class=\"sk-container\"><div class=\"sk-item sk-dashed-wrapped\"><div class=\"sk-label-container\"><div class=\"sk-label sk-toggleable\"><input class=\"sk-toggleable__control sk-hidden--visually\" id=\"e1c37687-8a8c-4c89-9f0b-eacb2c4400ef\" type=\"checkbox\" ><label class=\"sk-toggleable__label\" for=\"e1c37687-8a8c-4c89-9f0b-eacb2c4400ef\">Pipeline</label><div class=\"sk-toggleable__content\"><pre>Pipeline(steps=[('scaler', StandardScaler()),\n",
       "                ('model',\n",
       "                 RandomForestClassifier(max_features=0.75, n_jobs=-1,\n",
       "                                        random_state=42))])</pre></div></div></div><div class=\"sk-serial\"><div class=\"sk-item\"><div class=\"sk-estimator sk-toggleable\"><input class=\"sk-toggleable__control sk-hidden--visually\" id=\"689790ef-c701-4c90-a007-3815bfb591ea\" type=\"checkbox\" ><label class=\"sk-toggleable__label\" for=\"689790ef-c701-4c90-a007-3815bfb591ea\">StandardScaler</label><div class=\"sk-toggleable__content\"><pre>StandardScaler()</pre></div></div></div><div class=\"sk-item\"><div class=\"sk-estimator sk-toggleable\"><input class=\"sk-toggleable__control sk-hidden--visually\" id=\"632f0bab-d073-4e97-9d16-6a1ac4ca6712\" type=\"checkbox\" ><label class=\"sk-toggleable__label\" for=\"632f0bab-d073-4e97-9d16-6a1ac4ca6712\">RandomForestClassifier</label><div class=\"sk-toggleable__content\"><pre>RandomForestClassifier(max_features=0.75, n_jobs=-1, random_state=42)</pre></div></div></div></div></div></div></div>"
      ],
      "text/plain": [
       "Pipeline(steps=[('scaler', StandardScaler()),\n",
       "                ('model',\n",
       "                 RandomForestClassifier(max_features=0.75, n_jobs=-1,\n",
       "                                        random_state=42))])"
      ]
     },
     "execution_count": 425,
     "metadata": {},
     "output_type": "execute_result"
    }
   ],
   "source": [
    "%time\n",
    "rfc_pipeline = Pipeline(steps=[\n",
    "    ('scaler', StandardScaler()),\n",
    "    ('model', RandomForestClassifier(random_state=42, n_jobs=-1, max_features= 0.75))\n",
    "])\n",
    "\n",
    "rfc_pipeline.fit(X_train, y_train)"
   ]
  },
  {
   "cell_type": "code",
   "execution_count": 426,
   "id": "034ff88d",
   "metadata": {},
   "outputs": [
    {
     "data": {
      "text/plain": [
       "0.8391013964784456"
      ]
     },
     "execution_count": 426,
     "metadata": {},
     "output_type": "execute_result"
    }
   ],
   "source": [
    "y_pred_rfc = rfc_pipeline.predict(X_val)\n",
    "acc_val = accuracy_score(y_val, y_pred_rfc)\n",
    "acc_val"
   ]
  },
  {
   "cell_type": "markdown",
   "id": "88709541",
   "metadata": {},
   "source": [
    "The commented cell bellow  are individual parameters with their corresponding values that I used to get the idea of the value range to be used for grid search"
   ]
  },
  {
   "cell_type": "code",
   "execution_count": null,
   "id": "d1cc5887",
   "metadata": {},
   "outputs": [],
   "source": [
    "# n_estimators\n",
    "# 100 = 0.8445658773527626\n",
    "# 500 = 0.8451730418943534\n",
    "# 200 = 0.8439587128111719\n",
    "# 100 = 0.8439587128111719 # default\n",
    "# 50 = 0.833029751062538"
   ]
  },
  {
   "cell_type": "code",
   "execution_count": null,
   "id": "56f01fa4",
   "metadata": {},
   "outputs": [],
   "source": [
    "# criterion # ---> seem to not matter \n",
    "# entropy = 0.8415300546448088\n",
    "# gini = 0.8439587128111719"
   ]
  },
  {
   "cell_type": "code",
   "execution_count": null,
   "id": "a51df4cb",
   "metadata": {},
   "outputs": [],
   "source": [
    "# max_depth\n",
    "# 3 = 0.6533090467516697\n",
    "# 7 = 0.7134183363691561\n",
    "# 10 = 0.8233151183970856\n",
    "# None = 0.8439587128111719 # default\n",
    "# 20 = 0.8427443837279903\n",
    "# 40 = 0.8439587128111719"
   ]
  },
  {
   "cell_type": "code",
   "execution_count": null,
   "id": "104e83f3",
   "metadata": {},
   "outputs": [],
   "source": [
    "# min_samples_split \n",
    "# 2 = 0.8439587128111719 # default\n",
    "# 5 = 0.8439587128111719"
   ]
  },
  {
   "cell_type": "code",
   "execution_count": null,
   "id": "26c05a42",
   "metadata": {},
   "outputs": [],
   "source": [
    "# max_features\n",
    "# auto = 0.8439587128111719\n",
    "# sqrt = 0.8439587128111719\n",
    "# log2 = 0.8415300546448088\n",
    "# None = 0.8378870673952641\n",
    "# 0.75 = 0.8391013964784456"
   ]
  },
  {
   "cell_type": "markdown",
   "id": "942beaf2",
   "metadata": {},
   "source": [
    "## Feature importance"
   ]
  },
  {
   "cell_type": "code",
   "execution_count": 306,
   "id": "ddbaba8e",
   "metadata": {},
   "outputs": [],
   "source": [
    "X_cols =  X_train.columns\n",
    "X_scaled=StandardScaler().fit_transform(all_feat[X_cols])"
   ]
  },
  {
   "cell_type": "code",
   "execution_count": 432,
   "id": "986a5cb0",
   "metadata": {},
   "outputs": [
    {
     "data": {
      "text/html": [
       "<style>div.sk-top-container {color: black;background-color: white;}div.sk-toggleable {background-color: white;}label.sk-toggleable__label {cursor: pointer;display: block;width: 100%;margin-bottom: 0;padding: 0.2em 0.3em;box-sizing: border-box;text-align: center;}div.sk-toggleable__content {max-height: 0;max-width: 0;overflow: hidden;text-align: left;background-color: #f0f8ff;}div.sk-toggleable__content pre {margin: 0.2em;color: black;border-radius: 0.25em;background-color: #f0f8ff;}input.sk-toggleable__control:checked~div.sk-toggleable__content {max-height: 200px;max-width: 100%;overflow: auto;}div.sk-estimator input.sk-toggleable__control:checked~label.sk-toggleable__label {background-color: #d4ebff;}div.sk-label input.sk-toggleable__control:checked~label.sk-toggleable__label {background-color: #d4ebff;}input.sk-hidden--visually {border: 0;clip: rect(1px 1px 1px 1px);clip: rect(1px, 1px, 1px, 1px);height: 1px;margin: -1px;overflow: hidden;padding: 0;position: absolute;width: 1px;}div.sk-estimator {font-family: monospace;background-color: #f0f8ff;margin: 0.25em 0.25em;border: 1px dotted black;border-radius: 0.25em;box-sizing: border-box;}div.sk-estimator:hover {background-color: #d4ebff;}div.sk-parallel-item::after {content: \"\";width: 100%;border-bottom: 1px solid gray;flex-grow: 1;}div.sk-label:hover label.sk-toggleable__label {background-color: #d4ebff;}div.sk-serial::before {content: \"\";position: absolute;border-left: 1px solid gray;box-sizing: border-box;top: 2em;bottom: 0;left: 50%;}div.sk-serial {display: flex;flex-direction: column;align-items: center;background-color: white;}div.sk-item {z-index: 1;}div.sk-parallel {display: flex;align-items: stretch;justify-content: center;background-color: white;}div.sk-parallel-item {display: flex;flex-direction: column;position: relative;background-color: white;}div.sk-parallel-item:first-child::after {align-self: flex-end;width: 50%;}div.sk-parallel-item:last-child::after {align-self: flex-start;width: 50%;}div.sk-parallel-item:only-child::after {width: 0;}div.sk-dashed-wrapped {border: 1px dashed gray;margin: 0.2em;box-sizing: border-box;padding-bottom: 0.1em;background-color: white;position: relative;}div.sk-label label {font-family: monospace;font-weight: bold;background-color: white;display: inline-block;line-height: 1.2em;}div.sk-label-container {position: relative;z-index: 2;text-align: center;}div.sk-container {display: inline-block;position: relative;}</style><div class=\"sk-top-container\"><div class=\"sk-container\"><div class=\"sk-item\"><div class=\"sk-estimator sk-toggleable\"><input class=\"sk-toggleable__control sk-hidden--visually\" id=\"f141258e-2e59-44d7-8e04-e9f0767daf72\" type=\"checkbox\" checked><label class=\"sk-toggleable__label\" for=\"f141258e-2e59-44d7-8e04-e9f0767daf72\">RandomForestClassifier</label><div class=\"sk-toggleable__content\"><pre>RandomForestClassifier(criterion='entropy', max_features='log2',\n",
       "                       n_estimators=200, n_jobs=-1, random_state=42)</pre></div></div></div></div></div>"
      ],
      "text/plain": [
       "RandomForestClassifier(criterion='entropy', max_features='log2',\n",
       "                       n_estimators=200, n_jobs=-1, random_state=42)"
      ]
     },
     "execution_count": 432,
     "metadata": {},
     "output_type": "execute_result"
    }
   ],
   "source": [
    "# model=RandomForestClassifier(random_state=42, n_jobs=-1)\n",
    "model=RandomForestClassifier(random_state=42, \n",
    "                             n_jobs=-1, \n",
    "                             n_estimators = 200, \n",
    "                             criterion = 'entropy',\n",
    "                             max_depth = None,\n",
    "                             min_samples_split = 2,\n",
    "                             max_features = 'log2'\n",
    "                             )\n",
    "model.fit(X_scaled, all_feat['class'])"
   ]
  },
  {
   "cell_type": "code",
   "execution_count": 434,
   "id": "99d2e536",
   "metadata": {},
   "outputs": [
    {
     "data": {
      "text/plain": [
       "array([0.01030672, 0.00240423, 0.00734123, 0.00837316, 0.00995613,\n",
       "       0.00840326, 0.00480519, 0.00940728, 0.00341271, 0.00417132,\n",
       "       0.00515021, 0.00604811, 0.0088486 , 0.00844456, 0.00402216,\n",
       "       0.0073295 , 0.00277724, 0.0035531 , 0.0019978 , 0.00350712,\n",
       "       0.00489439, 0.00454811, 0.00417595, 0.00372271, 0.00167842,\n",
       "       0.00160536, 0.0045457 , 0.00659784, 0.00972214, 0.01018714,\n",
       "       0.00739911, 0.00413713, 0.0028005 , 0.00279363, 0.00171025,\n",
       "       0.00250567, 0.00333007, 0.00375066, 0.00337899, 0.00123025,\n",
       "       0.00331084, 0.00126899, 0.00146608, 0.00259674, 0.00397275,\n",
       "       0.00387351, 0.00335113, 0.00163998, 0.00309439, 0.0012861 ,\n",
       "       0.00628206, 0.00915467, 0.01073346, 0.00737839, 0.00841097,\n",
       "       0.00473011, 0.00195814, 0.00640103, 0.00401107, 0.00619007,\n",
       "       0.00934418, 0.00706861, 0.0083553 , 0.00407494, 0.00156348,\n",
       "       0.00460527, 0.00485556, 0.00859792, 0.01075004, 0.0082239 ,\n",
       "       0.00834478, 0.00431493, 0.00164265, 0.00431199, 0.00202323,\n",
       "       0.00330855, 0.00502445, 0.00297154, 0.00465957, 0.00383513,\n",
       "       0.00071944, 0.00228371, 0.00071172, 0.00117848, 0.00158222,\n",
       "       0.00167869, 0.00180151, 0.00134763, 0.0007146 , 0.0007253 ,\n",
       "       0.00306353, 0.00564253, 0.00754006, 0.00469628, 0.0061019 ,\n",
       "       0.00502381, 0.00280951, 0.00111818, 0.0079935 , 0.00814164,\n",
       "       0.0111272 , 0.01397542, 0.01071461, 0.01333426, 0.01236477,\n",
       "       0.01275093, 0.01118702, 0.00848099, 0.00878615, 0.00998397,\n",
       "       0.01009658, 0.00979119, 0.00960055, 0.00995662, 0.01007535,\n",
       "       0.00459365, 0.00534533, 0.00842364, 0.00790541, 0.00229878,\n",
       "       0.00500128, 0.005163  , 0.00195379, 0.00465481, 0.00516009,\n",
       "       0.00141758, 0.00199557, 0.0021344 , 0.01120784, 0.01083648,\n",
       "       0.01194671, 0.01091659, 0.0103847 , 0.01199094, 0.01247296,\n",
       "       0.01105968, 0.01179177, 0.00998471, 0.01022628, 0.01066607,\n",
       "       0.01011832, 0.01046884, 0.01081816, 0.00973905, 0.00929749,\n",
       "       0.01232536, 0.0095259 , 0.00854523, 0.01055281, 0.01066804,\n",
       "       0.01118392, 0.00841986, 0.00815046, 0.00983559, 0.01377446,\n",
       "       0.01182229, 0.01416219])"
      ]
     },
     "execution_count": 434,
     "metadata": {},
     "output_type": "execute_result"
    }
   ],
   "source": [
    "model.feature_importances_"
   ]
  },
  {
   "cell_type": "code",
   "execution_count": 435,
   "id": "4e5dfccb",
   "metadata": {},
   "outputs": [
    {
     "data": {
      "text/plain": [
       "at_Chara_C    0.014162\n",
       "to_FuncW_C    0.013975\n",
       "at_Sylla_C    0.013774\n",
       "at_FuncW_C    0.013334\n",
       "FleschG_S     0.012751\n",
       "to_AABiL_C    0.012473\n",
       "ra_CoFuW_C    0.012365\n",
       "at_TreeH_C    0.012325\n",
       "at_AAKuL_C    0.011991\n",
       "at_AAKuW_C    0.011947\n",
       "as_Chara_C    0.011822\n",
       "at_AABiL_C    0.011792\n",
       "to_AAKuW_C    0.011208\n",
       "AutoRea_S     0.011187\n",
       "TokSenS_S     0.011184\n",
       "at_ContW_C    0.011127\n",
       "as_AABiL_C    0.011060\n",
       "to_AAKuL_C    0.010917\n",
       "as_AAKuW_C    0.010836\n",
       "at_AACoL_C    0.010818\n",
       "at_AjTag_C    0.010750\n",
       "at_NoTag_C    0.010733\n",
       "as_FuncW_C    0.010715\n",
       "TokSenM_S     0.010668\n",
       "at_AABrL_C    0.010666\n",
       "at_FTree_C    0.010553\n",
       "as_AACoL_C    0.010469\n",
       "as_AAKuL_C    0.010385\n",
       "n_token       0.010307\n",
       "as_AABrL_C    0.010226\n",
       "ra_PrNoP_C    0.010187\n",
       "to_AACoL_C    0.010118\n",
       "LinseaW_S     0.010097\n",
       "UberTTR_S     0.010075\n",
       "to_AABrL_C    0.009985\n",
       "Gunning_S     0.009984\n",
       "BiLoTTR_S     0.009957\n",
       "at_NoPhr_C    0.009956\n",
       "as_Sylla_C    0.009836\n",
       "SimpTTR_S     0.009791\n",
       "dtype: float64"
      ]
     },
     "execution_count": 435,
     "metadata": {},
     "output_type": "execute_result"
    }
   ],
   "source": [
    "FeatImp = pd.Series(model.feature_importances_, index=X_cols).sort_values(ascending=False)\n",
    "FeatImp.head(40)"
   ]
  },
  {
   "cell_type": "code",
   "execution_count": 436,
   "id": "38a33988",
   "metadata": {},
   "outputs": [
    {
     "data": {
      "text/plain": [
       "as_AvTag_C    0.003309\n",
       "ra_AvPrP_C    0.003094\n",
       "to_CoTag_C    0.003064\n",
       "ra_AvAjT_C    0.002972\n",
       "ra_CoAvT_C    0.002810\n",
       "ra_PrAjP_C    0.002801\n",
       "ra_PrAvP_C    0.002794\n",
       "ra_VeAjP_C    0.002777\n",
       "as_AvPhr_C    0.002597\n",
       "as_AjPhr_C    0.002506\n",
       "n_sent        0.002404\n",
       "SimpVeV_S     0.002299\n",
       "ra_AvCoT_C    0.002284\n",
       "CorrAvV_S     0.002134\n",
       "to_AvTag_C    0.002023\n",
       "to_SuPhr_C    0.001998\n",
       "SquaAvV_S     0.001996\n",
       "ra_NoSuT_C    0.001958\n",
       "SimpAjV_S     0.001954\n",
       "ra_SuNoT_C    0.001802\n",
       "to_AjPhr_C    0.001710\n",
       "ra_SuAjT_C    0.001679\n",
       "ra_SuAjP_C    0.001678\n",
       "ra_AjSuT_C    0.001643\n",
       "ra_AvSuP_C    0.001640\n",
       "ra_SuAvP_C    0.001605\n",
       "at_SuTag_C    0.001582\n",
       "ra_VeSuT_C    0.001563\n",
       "to_AvPhr_C    0.001466\n",
       "SimpAvV_S     0.001418\n",
       "ra_SuVeT_C    0.001348\n",
       "ra_AvAjP_C    0.001286\n",
       "ra_AjAvP_C    0.001269\n",
       "ra_AjSuP_C    0.001230\n",
       "as_SuTag_C    0.001178\n",
       "ra_CoSuT_C    0.001118\n",
       "ra_SuCoT_C    0.000725\n",
       "ra_AvSuT_C    0.000719\n",
       "ra_SuAvT_C    0.000715\n",
       "to_SuTag_C    0.000712\n",
       "dtype: float64"
      ]
     },
     "execution_count": 436,
     "metadata": {},
     "output_type": "execute_result"
    }
   ],
   "source": [
    "FeatImp.tail(40)"
   ]
  },
  {
   "cell_type": "markdown",
   "id": "4aa6ee76",
   "metadata": {},
   "source": [
    "## Feature groups"
   ]
  },
  {
   "cell_type": "code",
   "execution_count": 311,
   "id": "c4317ea2",
   "metadata": {},
   "outputs": [],
   "source": [
    "syntax = ['to_NoPhr_C',\n",
    "'as_NoPhr_C',\n",
    "'at_NoPhr_C',\n",
    "'ra_NoVeP_C',\n",
    "'ra_NoSuP_C',\n",
    "'ra_NoPrP_C',\n",
    "'ra_NoAjP_C',\n",
    "'ra_NoAvP_C',\n",
    "'to_VePhr_C',\n",
    "'as_VePhr_C',\n",
    "'at_VePhr_C',\n",
    "'ra_VeNoP_C',\n",
    "'ra_VeSuP_C',\n",
    "'ra_VePrP_C',\n",
    "'ra_VeAjP_C',\n",
    "'ra_VeAvP_C',\n",
    "'to_SuPhr_C',\n",
    "'as_SuPhr_C',\n",
    "'at_SuPhr_C',\n",
    "'ra_SuNoP_C',\n",
    "'ra_SuVeP_C',\n",
    "'ra_SuPrP_C',\n",
    "'ra_SuAjP_C',\n",
    "'ra_SuAvP_C',\n",
    "'to_PrPhr_C',\n",
    "'as_PrPhr_C',\n",
    "'at_PrPhr_C',\n",
    "'ra_PrNoP_C',\n",
    "'ra_PrVeP_C',\n",
    "'ra_PrSuP_C',\n",
    "'ra_PrAjP_C',\n",
    "'ra_PrAvP_C',\n",
    "'to_AjPhr_C',\n",
    "'as_AjPhr_C',\n",
    "'at_AjPhr_C',\n",
    "'ra_AjNoP_C',\n",
    "'ra_AjVeP_C',\n",
    "'ra_AjSuP_C',\n",
    "'ra_AjPrP_C',\n",
    "'ra_AjAvP_C',\n",
    "'to_AvPhr_C',\n",
    "'as_AvPhr_C',\n",
    "'at_AvPhr_C',\n",
    "'ra_AvNoP_C',\n",
    "'ra_AvVeP_C',\n",
    "'ra_AvSuP_C',\n",
    "'ra_AvPrP_C',\n",
    "'ra_AvAjP_C',\n",
    "'to_NoTag_C',\n",
    "'as_NoTag_C',\n",
    "'at_NoTag_C',\n",
    "'ra_NoAjT_C',\n",
    "'ra_NoVeT_C',\n",
    "'ra_NoAvT_C',\n",
    "'ra_NoSuT_C',\n",
    "'ra_NoCoT_C',\n",
    "'to_VeTag_C',\n",
    "'as_VeTag_C',\n",
    "'at_VeTag_C',\n",
    "'ra_VeAjT_C',\n",
    "'ra_VeNoT_C',\n",
    "'ra_VeAvT_C',\n",
    "'ra_VeSuT_C',\n",
    "'ra_VeCoT_C',\n",
    "'to_AjTag_C',\n",
    "'as_AjTag_C',\n",
    "'at_AjTag_C',\n",
    "'ra_AjNoT_C',\n",
    "'ra_AjVeT_C',\n",
    "'ra_AjAvT_C',\n",
    "'ra_AjSuT_C',\n",
    "'ra_AjCoT_C',\n",
    "'to_AvTag_C',\n",
    "'as_AvTag_C',\n",
    "'at_AvTag_C',\n",
    "'ra_AvAjT_C',\n",
    "'ra_AvNoT_C',\n",
    "'ra_AvVeT_C',\n",
    "'ra_AvSuT_C',\n",
    "'ra_AvCoT_C',\n",
    "'to_SuTag_C',\n",
    "'as_SuTag_C',\n",
    "'at_SuTag_C',\n",
    "'ra_SuAjT_C',\n",
    "'ra_SuNoT_C',\n",
    "'ra_SuVeT_C',\n",
    "'ra_SuAvT_C',\n",
    "'ra_SuCoT_C',\n",
    "'to_CoTag_C',\n",
    "'as_CoTag_C',\n",
    "'at_CoTag_C',\n",
    "'ra_CoAjT_C',\n",
    "'ra_CoNoT_C',\n",
    "'ra_CoVeT_C',\n",
    "'ra_CoAvT_C',\n",
    "'ra_CoSuT_C',\n",
    "'to_ContW_C',\n",
    "'as_ContW_C',\n",
    "'at_ContW_C',\n",
    "'to_FuncW_C',\n",
    "'as_FuncW_C',\n",
    "'at_FuncW_C',\n",
    "'ra_CoFuW_C',\n",
    "'to_TreeH_C',\n",
    "'as_TreeH_C',\n",
    "'at_TreeH_C',\n",
    "'to_FTree_C',\n",
    "'as_FTree_C',\n",
    "'at_FTree_C']"
   ]
  },
  {
   "cell_type": "code",
   "execution_count": 312,
   "id": "58026036",
   "metadata": {},
   "outputs": [
    {
     "data": {
      "text/plain": [
       "(109, True)"
      ]
     },
     "execution_count": 312,
     "metadata": {},
     "output_type": "execute_result"
    }
   ],
   "source": [
    "len(syntax), len(syntax) == len(set(syntax))"
   ]
  },
  {
   "cell_type": "code",
   "execution_count": 313,
   "id": "16bb1d67",
   "metadata": {},
   "outputs": [],
   "source": [
    "lex_sem = ['SimpNoV_S',\n",
    "'SquaNoV_S',\n",
    "'CorrNoV_S',\n",
    "'SimpVeV_S',\n",
    "'SquaVeV_S',\n",
    "'CorrVeV_S',\n",
    "'SimpAjV_S',\n",
    "'SquaAjV_S',\n",
    "'CorrAjV_S',\n",
    "'SimpAvV_S',\n",
    "'SquaAvV_S',\n",
    "'CorrAvV_S',\n",
    "'SimpTTR_S',\n",
    "'CorrTTR_S',\n",
    "'BiLoTTR_S',\n",
    "'UberTTR_S',\n",
    "'MTLDTTR_S',\n",
    "'to_AAKuW_C',\n",
    "'as_AAKuW_C',\n",
    "'at_AAKuW_C',\n",
    "'to_AAKuL_C',\n",
    "'as_AAKuL_C',\n",
    "'at_AAKuL_C',\n",
    "'to_AABiL_C',\n",
    "'as_AABiL_C',\n",
    "'at_AABiL_C',\n",
    "'to_AABrL_C',\n",
    "'as_AABrL_C',\n",
    "'at_AABrL_C',\n",
    "'to_AACoL_C',\n",
    "'as_AACoL_C',\n",
    "'at_AACoL_C']"
   ]
  },
  {
   "cell_type": "code",
   "execution_count": 314,
   "id": "c3262ee3",
   "metadata": {},
   "outputs": [
    {
     "data": {
      "text/plain": [
       "(32, True)"
      ]
     },
     "execution_count": 314,
     "metadata": {},
     "output_type": "execute_result"
    }
   ],
   "source": [
    "len(lex_sem), len(lex_sem) == len(set(lex_sem))"
   ]
  },
  {
   "cell_type": "code",
   "execution_count": 315,
   "id": "169a3a97",
   "metadata": {},
   "outputs": [],
   "source": [
    "shallow_trad = ['TokSenM_S',\n",
    "'TokSenS_S',\n",
    "'TokSenL_S',\n",
    "'as_Token_C',\n",
    "'as_Sylla_C',\n",
    "'at_Sylla_C',\n",
    "'as_Chara_C',\n",
    "'at_Chara_C',     \n",
    "'SmogInd_S',\n",
    "'ColeLia_S',\n",
    "'Gunning_S',\n",
    "'AutoRea_S',\n",
    "'FleschG_S',\n",
    "'LinseaW_S']"
   ]
  },
  {
   "cell_type": "code",
   "execution_count": 346,
   "id": "835e05f0",
   "metadata": {},
   "outputs": [],
   "source": [
    "preprocess = ['n_token',\n",
    "              'n_sent']"
   ]
  },
  {
   "cell_type": "code",
   "execution_count": 440,
   "id": "d9ebf3f2",
   "metadata": {},
   "outputs": [
    {
     "data": {
      "text/plain": [
       "157"
      ]
     },
     "execution_count": 440,
     "metadata": {},
     "output_type": "execute_result"
    }
   ],
   "source": [
    "AllF = list(X_train.columns)\n",
    "len(AllF)"
   ]
  },
  {
   "cell_type": "code",
   "execution_count": 316,
   "id": "e4d37fed",
   "metadata": {},
   "outputs": [
    {
     "data": {
      "text/plain": [
       "(14, True)"
      ]
     },
     "execution_count": 316,
     "metadata": {},
     "output_type": "execute_result"
    }
   ],
   "source": [
    "len(shallow_trad), len(shallow_trad) == len(set(shallow_trad))"
   ]
  },
  {
   "cell_type": "code",
   "execution_count": 317,
   "id": "beaa2b8e",
   "metadata": {},
   "outputs": [
    {
     "data": {
      "text/plain": [
       "True"
      ]
     },
     "execution_count": 317,
     "metadata": {},
     "output_type": "execute_result"
    }
   ],
   "source": [
    "# check a variable exist in the data\n",
    "'to_AAKuW_C' in all_feat.columns"
   ]
  },
  {
   "cell_type": "code",
   "execution_count": 318,
   "id": "a76a7b8b",
   "metadata": {},
   "outputs": [
    {
     "data": {
      "text/plain": [
       "(155, True)"
      ]
     },
     "execution_count": 318,
     "metadata": {},
     "output_type": "execute_result"
    }
   ],
   "source": [
    "all_feat_sets = shallow_trad + lex_sem + syntax\n",
    "len(all_feat_sets), len(all_feat_sets) == len(set(all_feat_sets))"
   ]
  },
  {
   "cell_type": "code",
   "execution_count": 319,
   "id": "372c2d9f",
   "metadata": {},
   "outputs": [],
   "source": [
    "# all_feat_sets : total feat = 157, we 155 because of prep feat = n_token and n_sent"
   ]
  },
  {
   "cell_type": "markdown",
   "id": "838b4d9e",
   "metadata": {},
   "source": [
    "## Function"
   ]
  },
  {
   "cell_type": "code",
   "execution_count": 481,
   "id": "6f1501fe",
   "metadata": {},
   "outputs": [],
   "source": [
    "def train_and_evaluate_model(cols_of_interest, name):\n",
    "    \n",
    "    model_pipe = Pipeline(steps=[\n",
    "        ('select_variable', FunctionTransformer(lambda df: df[cols_of_interest])),\n",
    "        ('scale', StandardScaler()),\n",
    "        ('model', RandomForestClassifier(random_state=42, \n",
    "                                         n_jobs=-1,  \n",
    "                                         n_estimators = 200, \n",
    "                                         criterion = 'entropy',\n",
    "                                         max_depth = None,\n",
    "                                         min_samples_split = 2,\n",
    "                                         max_features = 'log2'))\n",
    "        \n",
    "    ])\n",
    "    \n",
    "    model_pipe.fit(X_train, y_train)\n",
    "    \n",
    "    #best_model=model_pipe.named_steps['crossvalidate'].best_params_\n",
    "    \n",
    "    n_feat=model_pipe.named_steps['model'].n_features_in_\n",
    "    print(f'Number of Feature for {name}: {n_feat}')\n",
    "    \n",
    "    #make pred\n",
    "    y_test_pred=model_pipe.predict(X_test)\n",
    "    \n",
    "    # save the predicted values to be used for statistical significance\n",
    "    pickle.dump( y_test_pred, open( \"pred_results/pred_\" + str(name) + \".p\", \"wb\" ))\n",
    "    \n",
    "    cm=confusion_matrix(y_true=y_test, y_pred=y_test_pred, labels= model_pipe.classes_)\n",
    "    acc = accuracy_score(y_true=y_test, y_pred=y_test_pred)\n",
    "    \n",
    "    FP=cm[0,1]\n",
    "    FN=cm[1,0]\n",
    "    TP=cm[1,1]\n",
    "    TN=cm[0,0]\n",
    "\n",
    "    TPR=TP/(TP+FN)\n",
    "    TNR=TN/(TN+FP)\n",
    "    FPR=FP/(FP+TN)\n",
    "    FNR=FN/(TP+FN)\n",
    "    \n",
    "    columns=['Type', 'Accuracy', 'TPR', 'TPR', 'FPR', 'FNR']\n",
    "    entries=[[name, acc, TPR, TNR, FPR, FNR]]\n",
    "    scores = pd.DataFrame(data=entries, columns=columns)\n",
    "    \n",
    "    return scores"
   ]
  },
  {
   "cell_type": "markdown",
   "id": "43349663",
   "metadata": {},
   "source": [
    "### Individual feature set"
   ]
  },
  {
   "cell_type": "code",
   "execution_count": 482,
   "id": "e661ef2d",
   "metadata": {},
   "outputs": [
    {
     "name": "stdout",
     "output_type": "stream",
     "text": [
      "Number of Feature for all_feat: 157\n",
      "Number of Feature for shallow_trad: 14\n",
      "Number of Feature for lex_sem: 32\n",
      "Number of Feature for syntax: 109\n"
     ]
    }
   ],
   "source": [
    "all_feat = train_and_evaluate_model(AllF, 'all_feat')\n",
    "shallow_trad_res = train_and_evaluate_model(shallow_trad, \"shallow_trad\")\n",
    "lex_sem_res = train_and_evaluate_model(lex_sem, \"lex_sem\")\n",
    "syntax_res = train_and_evaluate_model(syntax, \"syntax\")"
   ]
  },
  {
   "cell_type": "code",
   "execution_count": 483,
   "id": "d8459739",
   "metadata": {},
   "outputs": [
    {
     "data": {
      "text/html": [
       "<div>\n",
       "<style scoped>\n",
       "    .dataframe tbody tr th:only-of-type {\n",
       "        vertical-align: middle;\n",
       "    }\n",
       "\n",
       "    .dataframe tbody tr th {\n",
       "        vertical-align: top;\n",
       "    }\n",
       "\n",
       "    .dataframe thead th {\n",
       "        text-align: right;\n",
       "    }\n",
       "</style>\n",
       "<table border=\"1\" class=\"dataframe\">\n",
       "  <thead>\n",
       "    <tr style=\"text-align: right;\">\n",
       "      <th></th>\n",
       "      <th>Type</th>\n",
       "      <th>Accuracy</th>\n",
       "      <th>TPR</th>\n",
       "      <th>TPR</th>\n",
       "      <th>FPR</th>\n",
       "      <th>FNR</th>\n",
       "    </tr>\n",
       "  </thead>\n",
       "  <tbody>\n",
       "    <tr>\n",
       "      <th>0</th>\n",
       "      <td>all_feat</td>\n",
       "      <td>0.840214</td>\n",
       "      <td>0.764108</td>\n",
       "      <td>0.897698</td>\n",
       "      <td>0.102302</td>\n",
       "      <td>0.235892</td>\n",
       "    </tr>\n",
       "    <tr>\n",
       "      <th>1</th>\n",
       "      <td>shallow_trad</td>\n",
       "      <td>0.813987</td>\n",
       "      <td>0.767494</td>\n",
       "      <td>0.849105</td>\n",
       "      <td>0.150895</td>\n",
       "      <td>0.232506</td>\n",
       "    </tr>\n",
       "    <tr>\n",
       "      <th>2</th>\n",
       "      <td>lex_sem</td>\n",
       "      <td>0.839242</td>\n",
       "      <td>0.761851</td>\n",
       "      <td>0.897698</td>\n",
       "      <td>0.102302</td>\n",
       "      <td>0.238149</td>\n",
       "    </tr>\n",
       "    <tr>\n",
       "      <th>3</th>\n",
       "      <td>syntax</td>\n",
       "      <td>0.840699</td>\n",
       "      <td>0.765237</td>\n",
       "      <td>0.897698</td>\n",
       "      <td>0.102302</td>\n",
       "      <td>0.234763</td>\n",
       "    </tr>\n",
       "  </tbody>\n",
       "</table>\n",
       "</div>"
      ],
      "text/plain": [
       "           Type  Accuracy       TPR       TPR       FPR       FNR\n",
       "0      all_feat  0.840214  0.764108  0.897698  0.102302  0.235892\n",
       "1  shallow_trad  0.813987  0.767494  0.849105  0.150895  0.232506\n",
       "2       lex_sem  0.839242  0.761851  0.897698  0.102302  0.238149\n",
       "3        syntax  0.840699  0.765237  0.897698  0.102302  0.234763"
      ]
     },
     "execution_count": 483,
     "metadata": {},
     "output_type": "execute_result"
    }
   ],
   "source": [
    "results_1 = pd.concat([all_feat, shallow_trad_res, lex_sem_res, syntax_res], ignore_index=True)\n",
    "results_1"
   ]
  },
  {
   "cell_type": "markdown",
   "id": "25733b44",
   "metadata": {},
   "source": [
    "### Combine"
   ]
  },
  {
   "cell_type": "code",
   "execution_count": 484,
   "id": "9c593f39",
   "metadata": {},
   "outputs": [],
   "source": [
    "shallow_trad_AND_lex_sem = shallow_trad + lex_sem\n",
    "shallow_trad_AND_syntax = shallow_trad + syntax\n",
    "shallow_trad_AND_lex_sem_AND_syntax = shallow_trad + lex_sem + syntax"
   ]
  },
  {
   "cell_type": "code",
   "execution_count": 485,
   "id": "b85fdd49",
   "metadata": {},
   "outputs": [
    {
     "name": "stdout",
     "output_type": "stream",
     "text": [
      "Number of Feature for all_feat: 157\n",
      "Number of Feature for shallow_trad_lex_sem_syntax: 155\n",
      "Number of Feature for shallow_trad_AND_lex_sem: 46\n",
      "Number of Feature for shallow_trad_AND_syntax: 123\n"
     ]
    }
   ],
   "source": [
    "all_feat = train_and_evaluate_model(AllF, 'all_feat')\n",
    "shallow_trad_lex_sem_syntax = train_and_evaluate_model(shallow_trad_AND_lex_sem_AND_syntax, \"shallow_trad_lex_sem_syntax\")\n",
    "shallow_trad_AND_lex_sem = train_and_evaluate_model(shallow_trad_AND_lex_sem, \"shallow_trad_AND_lex_sem\")\n",
    "shallow_trad_AND_syntax = train_and_evaluate_model(shallow_trad_AND_syntax, \"shallow_trad_AND_syntax\")\n"
   ]
  },
  {
   "cell_type": "code",
   "execution_count": 486,
   "id": "a9741654",
   "metadata": {},
   "outputs": [
    {
     "data": {
      "text/html": [
       "<div>\n",
       "<style scoped>\n",
       "    .dataframe tbody tr th:only-of-type {\n",
       "        vertical-align: middle;\n",
       "    }\n",
       "\n",
       "    .dataframe tbody tr th {\n",
       "        vertical-align: top;\n",
       "    }\n",
       "\n",
       "    .dataframe thead th {\n",
       "        text-align: right;\n",
       "    }\n",
       "</style>\n",
       "<table border=\"1\" class=\"dataframe\">\n",
       "  <thead>\n",
       "    <tr style=\"text-align: right;\">\n",
       "      <th></th>\n",
       "      <th>Type</th>\n",
       "      <th>Accuracy</th>\n",
       "      <th>TPR</th>\n",
       "      <th>TPR</th>\n",
       "      <th>FPR</th>\n",
       "      <th>FNR</th>\n",
       "    </tr>\n",
       "  </thead>\n",
       "  <tbody>\n",
       "    <tr>\n",
       "      <th>0</th>\n",
       "      <td>all_feat</td>\n",
       "      <td>0.840214</td>\n",
       "      <td>0.764108</td>\n",
       "      <td>0.897698</td>\n",
       "      <td>0.102302</td>\n",
       "      <td>0.235892</td>\n",
       "    </tr>\n",
       "    <tr>\n",
       "      <th>1</th>\n",
       "      <td>shallow_trad_AND_lex_sem</td>\n",
       "      <td>0.836814</td>\n",
       "      <td>0.762980</td>\n",
       "      <td>0.892583</td>\n",
       "      <td>0.107417</td>\n",
       "      <td>0.237020</td>\n",
       "    </tr>\n",
       "    <tr>\n",
       "      <th>2</th>\n",
       "      <td>shallow_trad_AND_syntax</td>\n",
       "      <td>0.841671</td>\n",
       "      <td>0.764108</td>\n",
       "      <td>0.900256</td>\n",
       "      <td>0.099744</td>\n",
       "      <td>0.235892</td>\n",
       "    </tr>\n",
       "    <tr>\n",
       "      <th>3</th>\n",
       "      <td>shallow_trad_lex_sem_syntax</td>\n",
       "      <td>0.840699</td>\n",
       "      <td>0.764108</td>\n",
       "      <td>0.898551</td>\n",
       "      <td>0.101449</td>\n",
       "      <td>0.235892</td>\n",
       "    </tr>\n",
       "  </tbody>\n",
       "</table>\n",
       "</div>"
      ],
      "text/plain": [
       "                          Type  Accuracy       TPR       TPR       FPR  \\\n",
       "0                     all_feat  0.840214  0.764108  0.897698  0.102302   \n",
       "1     shallow_trad_AND_lex_sem  0.836814  0.762980  0.892583  0.107417   \n",
       "2      shallow_trad_AND_syntax  0.841671  0.764108  0.900256  0.099744   \n",
       "3  shallow_trad_lex_sem_syntax  0.840699  0.764108  0.898551  0.101449   \n",
       "\n",
       "        FNR  \n",
       "0  0.235892  \n",
       "1  0.237020  \n",
       "2  0.235892  \n",
       "3  0.235892  "
      ]
     },
     "execution_count": 486,
     "metadata": {},
     "output_type": "execute_result"
    }
   ],
   "source": [
    "results_2 = pd.concat([all_feat, shallow_trad_AND_lex_sem, shallow_trad_AND_syntax, shallow_trad_lex_sem_syntax], ignore_index=True)\n",
    "results_2"
   ]
  },
  {
   "cell_type": "markdown",
   "id": "74b06ea8",
   "metadata": {},
   "source": [
    "### Remove "
   ]
  },
  {
   "cell_type": "code",
   "execution_count": 487,
   "id": "06cffed5",
   "metadata": {},
   "outputs": [
    {
     "data": {
      "text/plain": [
       "157"
      ]
     },
     "execution_count": 487,
     "metadata": {},
     "output_type": "execute_result"
    }
   ],
   "source": [
    "all_cols = list(X.columns)\n",
    "len(all_cols)"
   ]
  },
  {
   "cell_type": "code",
   "execution_count": 488,
   "id": "dd095cd8",
   "metadata": {},
   "outputs": [
    {
     "data": {
      "text/plain": [
       "1615844"
      ]
     },
     "execution_count": 488,
     "metadata": {},
     "output_type": "execute_result"
    }
   ],
   "source": [
    "X.size"
   ]
  },
  {
   "cell_type": "code",
   "execution_count": 489,
   "id": "a678e8e1",
   "metadata": {},
   "outputs": [],
   "source": [
    "# remove syntax\n",
    "all_feat_minus_syntax = [ele for ele in all_cols if ele not in syntax]\n",
    "# remove lex_sem \n",
    "all_feat_minus_lex_sem = [ele for ele in all_cols if ele not in lex_sem]\n",
    "# remove shallow_trad\n",
    "all_feat_minus_shallow_trad = [ele for ele in all_cols if ele not in shallow_trad]\n",
    "# remove preprocess\n",
    "all_feat_minus_preprocess = [ele for ele in all_cols if ele not in preprocess]"
   ]
  },
  {
   "cell_type": "code",
   "execution_count": 490,
   "id": "ae54278b",
   "metadata": {},
   "outputs": [
    {
     "data": {
      "text/plain": [
       "(48, 125, 143, 155)"
      ]
     },
     "execution_count": 490,
     "metadata": {},
     "output_type": "execute_result"
    }
   ],
   "source": [
    "len(all_feat_minus_syntax), len(all_feat_minus_lex_sem), len(all_feat_minus_shallow_trad), len(all_feat_minus_preprocess)\n"
   ]
  },
  {
   "cell_type": "code",
   "execution_count": 493,
   "id": "65029696",
   "metadata": {},
   "outputs": [
    {
     "name": "stdout",
     "output_type": "stream",
     "text": [
      "Number of Feature for all_feat: 157\n",
      "Number of Feature for all_feat_minus_syntax: 48\n",
      "Number of Feature for all_feat_minus_lex_sem: 125\n",
      "Number of Feature for all_feat_minus_shallow_trad: 143\n",
      "Number of Feature for all_feat_minus_preprocess: 155\n"
     ]
    }
   ],
   "source": [
    "all_feat = train_and_evaluate_model(AllF, 'all_feat') \n",
    "all_feat_minus_syntax_res = train_and_evaluate_model(all_feat_minus_syntax, 'all_feat_minus_syntax')\n",
    "all_feat_minus_lex_sem_res = train_and_evaluate_model(all_feat_minus_lex_sem, 'all_feat_minus_lex_sem')\n",
    "all_feat_minus_shallow_trad_res = train_and_evaluate_model(all_feat_minus_shallow_trad, 'all_feat_minus_shallow_trad')\n",
    "all_feat_minus_preprocess_res = train_and_evaluate_model(all_feat_minus_preprocess, 'all_feat_minus_preprocess')\n"
   ]
  },
  {
   "cell_type": "code",
   "execution_count": 494,
   "id": "5bb8182f",
   "metadata": {},
   "outputs": [
    {
     "data": {
      "text/html": [
       "<div>\n",
       "<style scoped>\n",
       "    .dataframe tbody tr th:only-of-type {\n",
       "        vertical-align: middle;\n",
       "    }\n",
       "\n",
       "    .dataframe tbody tr th {\n",
       "        vertical-align: top;\n",
       "    }\n",
       "\n",
       "    .dataframe thead th {\n",
       "        text-align: right;\n",
       "    }\n",
       "</style>\n",
       "<table border=\"1\" class=\"dataframe\">\n",
       "  <thead>\n",
       "    <tr style=\"text-align: right;\">\n",
       "      <th></th>\n",
       "      <th>Type</th>\n",
       "      <th>Accuracy</th>\n",
       "      <th>TPR</th>\n",
       "      <th>TPR</th>\n",
       "      <th>FPR</th>\n",
       "      <th>FNR</th>\n",
       "    </tr>\n",
       "  </thead>\n",
       "  <tbody>\n",
       "    <tr>\n",
       "      <th>0</th>\n",
       "      <td>all_feat</td>\n",
       "      <td>0.840214</td>\n",
       "      <td>0.764108</td>\n",
       "      <td>0.897698</td>\n",
       "      <td>0.102302</td>\n",
       "      <td>0.235892</td>\n",
       "    </tr>\n",
       "    <tr>\n",
       "      <th>1</th>\n",
       "      <td>all_feat_minus_syntax</td>\n",
       "      <td>0.838757</td>\n",
       "      <td>0.765237</td>\n",
       "      <td>0.894288</td>\n",
       "      <td>0.105712</td>\n",
       "      <td>0.234763</td>\n",
       "    </tr>\n",
       "    <tr>\n",
       "      <th>2</th>\n",
       "      <td>all_feat_minus_lex_sem</td>\n",
       "      <td>0.836814</td>\n",
       "      <td>0.759594</td>\n",
       "      <td>0.895141</td>\n",
       "      <td>0.104859</td>\n",
       "      <td>0.240406</td>\n",
       "    </tr>\n",
       "    <tr>\n",
       "      <th>3</th>\n",
       "      <td>all_feat_minus_shallow_trad</td>\n",
       "      <td>0.842156</td>\n",
       "      <td>0.764108</td>\n",
       "      <td>0.901108</td>\n",
       "      <td>0.098892</td>\n",
       "      <td>0.235892</td>\n",
       "    </tr>\n",
       "    <tr>\n",
       "      <th>4</th>\n",
       "      <td>all_feat_minus_preprocess</td>\n",
       "      <td>0.841185</td>\n",
       "      <td>0.762980</td>\n",
       "      <td>0.900256</td>\n",
       "      <td>0.099744</td>\n",
       "      <td>0.237020</td>\n",
       "    </tr>\n",
       "  </tbody>\n",
       "</table>\n",
       "</div>"
      ],
      "text/plain": [
       "                          Type  Accuracy       TPR       TPR       FPR  \\\n",
       "0                     all_feat  0.840214  0.764108  0.897698  0.102302   \n",
       "1        all_feat_minus_syntax  0.838757  0.765237  0.894288  0.105712   \n",
       "2       all_feat_minus_lex_sem  0.836814  0.759594  0.895141  0.104859   \n",
       "3  all_feat_minus_shallow_trad  0.842156  0.764108  0.901108  0.098892   \n",
       "4    all_feat_minus_preprocess  0.841185  0.762980  0.900256  0.099744   \n",
       "\n",
       "        FNR  \n",
       "0  0.235892  \n",
       "1  0.234763  \n",
       "2  0.240406  \n",
       "3  0.235892  \n",
       "4  0.237020  "
      ]
     },
     "execution_count": 494,
     "metadata": {},
     "output_type": "execute_result"
    }
   ],
   "source": [
    "Results_3 = pd.concat([all_feat,\n",
    "                       all_feat_minus_syntax_res, \n",
    "                       all_feat_minus_lex_sem_res, \n",
    "                       all_feat_minus_shallow_trad_res,\n",
    "                       all_feat_minus_preprocess_res], \n",
    "                      ignore_index = True)\n",
    "Results_3"
   ]
  },
  {
   "cell_type": "code",
   "execution_count": null,
   "id": "988c435f",
   "metadata": {},
   "outputs": [],
   "source": []
  },
  {
   "cell_type": "markdown",
   "id": "02f9e493",
   "metadata": {},
   "source": [
    "### 2. Support Vector Machine (SVM)\n"
   ]
  },
  {
   "cell_type": "code",
   "execution_count": 333,
   "id": "c2ec2431",
   "metadata": {},
   "outputs": [
    {
     "data": {
      "text/html": [
       "<style>div.sk-top-container {color: black;background-color: white;}div.sk-toggleable {background-color: white;}label.sk-toggleable__label {cursor: pointer;display: block;width: 100%;margin-bottom: 0;padding: 0.2em 0.3em;box-sizing: border-box;text-align: center;}div.sk-toggleable__content {max-height: 0;max-width: 0;overflow: hidden;text-align: left;background-color: #f0f8ff;}div.sk-toggleable__content pre {margin: 0.2em;color: black;border-radius: 0.25em;background-color: #f0f8ff;}input.sk-toggleable__control:checked~div.sk-toggleable__content {max-height: 200px;max-width: 100%;overflow: auto;}div.sk-estimator input.sk-toggleable__control:checked~label.sk-toggleable__label {background-color: #d4ebff;}div.sk-label input.sk-toggleable__control:checked~label.sk-toggleable__label {background-color: #d4ebff;}input.sk-hidden--visually {border: 0;clip: rect(1px 1px 1px 1px);clip: rect(1px, 1px, 1px, 1px);height: 1px;margin: -1px;overflow: hidden;padding: 0;position: absolute;width: 1px;}div.sk-estimator {font-family: monospace;background-color: #f0f8ff;margin: 0.25em 0.25em;border: 1px dotted black;border-radius: 0.25em;box-sizing: border-box;}div.sk-estimator:hover {background-color: #d4ebff;}div.sk-parallel-item::after {content: \"\";width: 100%;border-bottom: 1px solid gray;flex-grow: 1;}div.sk-label:hover label.sk-toggleable__label {background-color: #d4ebff;}div.sk-serial::before {content: \"\";position: absolute;border-left: 1px solid gray;box-sizing: border-box;top: 2em;bottom: 0;left: 50%;}div.sk-serial {display: flex;flex-direction: column;align-items: center;background-color: white;}div.sk-item {z-index: 1;}div.sk-parallel {display: flex;align-items: stretch;justify-content: center;background-color: white;}div.sk-parallel-item {display: flex;flex-direction: column;position: relative;background-color: white;}div.sk-parallel-item:first-child::after {align-self: flex-end;width: 50%;}div.sk-parallel-item:last-child::after {align-self: flex-start;width: 50%;}div.sk-parallel-item:only-child::after {width: 0;}div.sk-dashed-wrapped {border: 1px dashed gray;margin: 0.2em;box-sizing: border-box;padding-bottom: 0.1em;background-color: white;position: relative;}div.sk-label label {font-family: monospace;font-weight: bold;background-color: white;display: inline-block;line-height: 1.2em;}div.sk-label-container {position: relative;z-index: 2;text-align: center;}div.sk-container {display: inline-block;position: relative;}</style><div class=\"sk-top-container\"><div class=\"sk-container\"><div class=\"sk-item sk-dashed-wrapped\"><div class=\"sk-label-container\"><div class=\"sk-label sk-toggleable\"><input class=\"sk-toggleable__control sk-hidden--visually\" id=\"ddec348d-fb34-4cde-aeee-0b5b3510282a\" type=\"checkbox\" ><label class=\"sk-toggleable__label\" for=\"ddec348d-fb34-4cde-aeee-0b5b3510282a\">Pipeline</label><div class=\"sk-toggleable__content\"><pre>Pipeline(steps=[('scaler', StandardScaler()), ('model', SVC())])</pre></div></div></div><div class=\"sk-serial\"><div class=\"sk-item\"><div class=\"sk-estimator sk-toggleable\"><input class=\"sk-toggleable__control sk-hidden--visually\" id=\"ef0af83a-3663-4d5c-a82e-3cff730088bb\" type=\"checkbox\" ><label class=\"sk-toggleable__label\" for=\"ef0af83a-3663-4d5c-a82e-3cff730088bb\">StandardScaler</label><div class=\"sk-toggleable__content\"><pre>StandardScaler()</pre></div></div></div><div class=\"sk-item\"><div class=\"sk-estimator sk-toggleable\"><input class=\"sk-toggleable__control sk-hidden--visually\" id=\"aad4d603-a69c-4c65-a6af-4595649056b8\" type=\"checkbox\" ><label class=\"sk-toggleable__label\" for=\"aad4d603-a69c-4c65-a6af-4595649056b8\">SVC</label><div class=\"sk-toggleable__content\"><pre>SVC()</pre></div></div></div></div></div></div></div>"
      ],
      "text/plain": [
       "Pipeline(steps=[('scaler', StandardScaler()), ('model', SVC())])"
      ]
     },
     "execution_count": 333,
     "metadata": {},
     "output_type": "execute_result"
    }
   ],
   "source": [
    "\n",
    "svc_pipeline = Pipeline(steps=[\n",
    "    ('scaler', StandardScaler()),\n",
    "    ('model', SVC())\n",
    "])\n",
    "\n",
    "svc_pipeline.fit(X_train, y_train)"
   ]
  },
  {
   "cell_type": "code",
   "execution_count": 334,
   "id": "712c56f2",
   "metadata": {},
   "outputs": [],
   "source": [
    "pred_svc = svc_pipeline.predict(X_test)\n",
    "cm_svm = confusion_matrix(y_true=y_test, y_pred=pred_svc, labels= svc_pipeline.classes_)\n",
    "disp = ConfusionMatrixDisplay(confusion_matrix=cm_svm, display_labels=svc_pipeline.classes_)\n"
   ]
  },
  {
   "cell_type": "code",
   "execution_count": 335,
   "id": "27bda1e3",
   "metadata": {},
   "outputs": [],
   "source": [
    "FP=cm_svm[0,1]\n",
    "FN=cm_svm[1,0]\n",
    "TP=cm_svm[1,1]\n",
    "TN=cm_svm[0,0]\n",
    "\n",
    "TPR=TP/(TP+FN)\n",
    "TNR=TN/(TN+FP)\n",
    "FPR=FP/(FP+TN)\n",
    "FNR=FN/(TP+FN)"
   ]
  },
  {
   "cell_type": "code",
   "execution_count": 336,
   "id": "2b7bdf42",
   "metadata": {},
   "outputs": [
    {
     "data": {
      "text/plain": [
       "(0.582392776523702, 0.907075873827792, 0.09292412617220801, 0.417607223476298)"
      ]
     },
     "execution_count": 336,
     "metadata": {},
     "output_type": "execute_result"
    }
   ],
   "source": [
    "TPR, TNR, FPR, FNR"
   ]
  },
  {
   "cell_type": "code",
   "execution_count": 337,
   "id": "2aca75a3",
   "metadata": {},
   "outputs": [
    {
     "name": "stdout",
     "output_type": "stream",
     "text": [
      "              precision    recall  f1-score   support\n",
      "\n",
      "           0      0.742     0.907     0.816      1173\n",
      "           1      0.826     0.582     0.683       886\n",
      "\n",
      "    accuracy                          0.767      2059\n",
      "   macro avg      0.784     0.745     0.750      2059\n",
      "weighted avg      0.778     0.767     0.759      2059\n",
      "\n"
     ]
    }
   ],
   "source": [
    "print(classification_report(y_true=y_test, y_pred=pred_svc,\n",
    "                            labels= svc_pipeline.classes_, digits=3))"
   ]
  },
  {
   "cell_type": "markdown",
   "id": "bdb6ba53",
   "metadata": {},
   "source": [
    "#### svm tune hyperparameter"
   ]
  },
  {
   "cell_type": "code",
   "execution_count": 495,
   "id": "bba60eea",
   "metadata": {},
   "outputs": [
    {
     "name": "stdout",
     "output_type": "stream",
     "text": [
      "Fitting 5 folds for each of 65 candidates, totalling 325 fits\n"
     ]
    },
    {
     "data": {
      "text/html": [
       "<style>div.sk-top-container {color: black;background-color: white;}div.sk-toggleable {background-color: white;}label.sk-toggleable__label {cursor: pointer;display: block;width: 100%;margin-bottom: 0;padding: 0.2em 0.3em;box-sizing: border-box;text-align: center;}div.sk-toggleable__content {max-height: 0;max-width: 0;overflow: hidden;text-align: left;background-color: #f0f8ff;}div.sk-toggleable__content pre {margin: 0.2em;color: black;border-radius: 0.25em;background-color: #f0f8ff;}input.sk-toggleable__control:checked~div.sk-toggleable__content {max-height: 200px;max-width: 100%;overflow: auto;}div.sk-estimator input.sk-toggleable__control:checked~label.sk-toggleable__label {background-color: #d4ebff;}div.sk-label input.sk-toggleable__control:checked~label.sk-toggleable__label {background-color: #d4ebff;}input.sk-hidden--visually {border: 0;clip: rect(1px 1px 1px 1px);clip: rect(1px, 1px, 1px, 1px);height: 1px;margin: -1px;overflow: hidden;padding: 0;position: absolute;width: 1px;}div.sk-estimator {font-family: monospace;background-color: #f0f8ff;margin: 0.25em 0.25em;border: 1px dotted black;border-radius: 0.25em;box-sizing: border-box;}div.sk-estimator:hover {background-color: #d4ebff;}div.sk-parallel-item::after {content: \"\";width: 100%;border-bottom: 1px solid gray;flex-grow: 1;}div.sk-label:hover label.sk-toggleable__label {background-color: #d4ebff;}div.sk-serial::before {content: \"\";position: absolute;border-left: 1px solid gray;box-sizing: border-box;top: 2em;bottom: 0;left: 50%;}div.sk-serial {display: flex;flex-direction: column;align-items: center;background-color: white;}div.sk-item {z-index: 1;}div.sk-parallel {display: flex;align-items: stretch;justify-content: center;background-color: white;}div.sk-parallel-item {display: flex;flex-direction: column;position: relative;background-color: white;}div.sk-parallel-item:first-child::after {align-self: flex-end;width: 50%;}div.sk-parallel-item:last-child::after {align-self: flex-start;width: 50%;}div.sk-parallel-item:only-child::after {width: 0;}div.sk-dashed-wrapped {border: 1px dashed gray;margin: 0.2em;box-sizing: border-box;padding-bottom: 0.1em;background-color: white;position: relative;}div.sk-label label {font-family: monospace;font-weight: bold;background-color: white;display: inline-block;line-height: 1.2em;}div.sk-label-container {position: relative;z-index: 2;text-align: center;}div.sk-container {display: inline-block;position: relative;}</style><div class=\"sk-top-container\"><div class=\"sk-container\"><div class=\"sk-item sk-dashed-wrapped\"><div class=\"sk-label-container\"><div class=\"sk-label sk-toggleable\"><input class=\"sk-toggleable__control sk-hidden--visually\" id=\"94340300-7413-4c1f-bdf5-a146a507a69d\" type=\"checkbox\" ><label class=\"sk-toggleable__label\" for=\"94340300-7413-4c1f-bdf5-a146a507a69d\">GridSearchCV</label><div class=\"sk-toggleable__content\"><pre>GridSearchCV(estimator=Pipeline(steps=[('scaler', StandardScaler()),\n",
       "                                       ('model', SVC())]),\n",
       "             n_jobs=-1,\n",
       "             param_grid=[{'model__C': [0.1, 0.5, 1, 5, 10],\n",
       "                          'model__kernel': ['linear']},\n",
       "                         {'model__C': [0.1, 0.5, 1, 5, 10],\n",
       "                          'model__gamma': ['scale', 'auto', 0.001, 1e-05],\n",
       "                          'model__kernel': ['rbf']},\n",
       "                         {'model__C': [0.1, 0.5, 1, 5, 10],\n",
       "                          'model__degree': [2, 3],\n",
       "                          'model__gamma': ['scale', 'auto', 0.001, 1e-05],\n",
       "                          'model__kernel': ['poly']}],\n",
       "             verbose=2)</pre></div></div></div><div class=\"sk-parallel\"><div class=\"sk-parallel-item\"><div class=\"sk-item\"><div class=\"sk-serial\"><div class=\"sk-item\"><div class=\"sk-serial\"><div class=\"sk-item\"><div class=\"sk-estimator sk-toggleable\"><input class=\"sk-toggleable__control sk-hidden--visually\" id=\"6738a61a-86ae-45f8-9c9d-2d3eed8446dd\" type=\"checkbox\" ><label class=\"sk-toggleable__label\" for=\"6738a61a-86ae-45f8-9c9d-2d3eed8446dd\">StandardScaler</label><div class=\"sk-toggleable__content\"><pre>StandardScaler()</pre></div></div></div><div class=\"sk-item\"><div class=\"sk-estimator sk-toggleable\"><input class=\"sk-toggleable__control sk-hidden--visually\" id=\"5b77243a-2bb1-4a08-9727-57570b74ad37\" type=\"checkbox\" ><label class=\"sk-toggleable__label\" for=\"5b77243a-2bb1-4a08-9727-57570b74ad37\">SVC</label><div class=\"sk-toggleable__content\"><pre>SVC()</pre></div></div></div></div></div></div></div></div></div></div></div></div>"
      ],
      "text/plain": [
       "GridSearchCV(estimator=Pipeline(steps=[('scaler', StandardScaler()),\n",
       "                                       ('model', SVC())]),\n",
       "             n_jobs=-1,\n",
       "             param_grid=[{'model__C': [0.1, 0.5, 1, 5, 10],\n",
       "                          'model__kernel': ['linear']},\n",
       "                         {'model__C': [0.1, 0.5, 1, 5, 10],\n",
       "                          'model__gamma': ['scale', 'auto', 0.001, 1e-05],\n",
       "                          'model__kernel': ['rbf']},\n",
       "                         {'model__C': [0.1, 0.5, 1, 5, 10],\n",
       "                          'model__degree': [2, 3],\n",
       "                          'model__gamma': ['scale', 'auto', 0.001, 1e-05],\n",
       "                          'model__kernel': ['poly']}],\n",
       "             verbose=2)"
      ]
     },
     "execution_count": 495,
     "metadata": {},
     "output_type": "execute_result"
    }
   ],
   "source": [
    "linear_kernel = {\n",
    "    'model__C': [0.1, 0.5, 1, 5, 10], \n",
    "    'model__kernel': ['linear']\n",
    "}\n",
    "\n",
    "rbf_kernel ={\n",
    "    'model__C': [0.1, 0.5, 1, 5, 10], \n",
    "    'model__kernel': ['rbf'],\n",
    "    'model__gamma': ['scale', 'auto', 0.001, 0.00001]\n",
    "}\n",
    "\n",
    "poly_kernel ={\n",
    "    'model__C': [0.1, 0.5, 1, 5, 10], \n",
    "    'model__kernel': ['poly'],\n",
    "    'model__degree': [2,3],\n",
    "    'model__gamma': ['scale', 'auto', 0.001, 0.00001]\n",
    "}\n",
    "\n",
    "\n",
    "param = [\n",
    "    linear_kernel,\n",
    "    rbf_kernel,\n",
    "    poly_kernel\n",
    "]\n",
    "\n",
    "svc_cv = GridSearchCV(estimator=svc_pipeline, param_grid=param, n_jobs=-1, verbose=2)\n",
    "\n",
    "svc_cv.fit(X_train, y_train)"
   ]
  },
  {
   "cell_type": "code",
   "execution_count": 501,
   "id": "a7ff77eb",
   "metadata": {},
   "outputs": [
    {
     "data": {
      "text/html": [
       "<style>div.sk-top-container {color: black;background-color: white;}div.sk-toggleable {background-color: white;}label.sk-toggleable__label {cursor: pointer;display: block;width: 100%;margin-bottom: 0;padding: 0.2em 0.3em;box-sizing: border-box;text-align: center;}div.sk-toggleable__content {max-height: 0;max-width: 0;overflow: hidden;text-align: left;background-color: #f0f8ff;}div.sk-toggleable__content pre {margin: 0.2em;color: black;border-radius: 0.25em;background-color: #f0f8ff;}input.sk-toggleable__control:checked~div.sk-toggleable__content {max-height: 200px;max-width: 100%;overflow: auto;}div.sk-estimator input.sk-toggleable__control:checked~label.sk-toggleable__label {background-color: #d4ebff;}div.sk-label input.sk-toggleable__control:checked~label.sk-toggleable__label {background-color: #d4ebff;}input.sk-hidden--visually {border: 0;clip: rect(1px 1px 1px 1px);clip: rect(1px, 1px, 1px, 1px);height: 1px;margin: -1px;overflow: hidden;padding: 0;position: absolute;width: 1px;}div.sk-estimator {font-family: monospace;background-color: #f0f8ff;margin: 0.25em 0.25em;border: 1px dotted black;border-radius: 0.25em;box-sizing: border-box;}div.sk-estimator:hover {background-color: #d4ebff;}div.sk-parallel-item::after {content: \"\";width: 100%;border-bottom: 1px solid gray;flex-grow: 1;}div.sk-label:hover label.sk-toggleable__label {background-color: #d4ebff;}div.sk-serial::before {content: \"\";position: absolute;border-left: 1px solid gray;box-sizing: border-box;top: 2em;bottom: 0;left: 50%;}div.sk-serial {display: flex;flex-direction: column;align-items: center;background-color: white;}div.sk-item {z-index: 1;}div.sk-parallel {display: flex;align-items: stretch;justify-content: center;background-color: white;}div.sk-parallel-item {display: flex;flex-direction: column;position: relative;background-color: white;}div.sk-parallel-item:first-child::after {align-self: flex-end;width: 50%;}div.sk-parallel-item:last-child::after {align-self: flex-start;width: 50%;}div.sk-parallel-item:only-child::after {width: 0;}div.sk-dashed-wrapped {border: 1px dashed gray;margin: 0.2em;box-sizing: border-box;padding-bottom: 0.1em;background-color: white;position: relative;}div.sk-label label {font-family: monospace;font-weight: bold;background-color: white;display: inline-block;line-height: 1.2em;}div.sk-label-container {position: relative;z-index: 2;text-align: center;}div.sk-container {display: inline-block;position: relative;}</style><div class=\"sk-top-container\"><div class=\"sk-container\"><div class=\"sk-item sk-dashed-wrapped\"><div class=\"sk-label-container\"><div class=\"sk-label sk-toggleable\"><input class=\"sk-toggleable__control sk-hidden--visually\" id=\"b16ac846-37f6-48a1-86b6-5f09ed40c01a\" type=\"checkbox\" ><label class=\"sk-toggleable__label\" for=\"b16ac846-37f6-48a1-86b6-5f09ed40c01a\">Pipeline</label><div class=\"sk-toggleable__content\"><pre>Pipeline(steps=[('scaler', StandardScaler()), ('model', SVC(C=5))])</pre></div></div></div><div class=\"sk-serial\"><div class=\"sk-item\"><div class=\"sk-estimator sk-toggleable\"><input class=\"sk-toggleable__control sk-hidden--visually\" id=\"a72b6255-e392-4073-8cee-85db96fe7dcf\" type=\"checkbox\" ><label class=\"sk-toggleable__label\" for=\"a72b6255-e392-4073-8cee-85db96fe7dcf\">StandardScaler</label><div class=\"sk-toggleable__content\"><pre>StandardScaler()</pre></div></div></div><div class=\"sk-item\"><div class=\"sk-estimator sk-toggleable\"><input class=\"sk-toggleable__control sk-hidden--visually\" id=\"f197988b-a68b-4d16-873c-9cd629b79168\" type=\"checkbox\" ><label class=\"sk-toggleable__label\" for=\"f197988b-a68b-4d16-873c-9cd629b79168\">SVC</label><div class=\"sk-toggleable__content\"><pre>SVC(C=5)</pre></div></div></div></div></div></div></div>"
      ],
      "text/plain": [
       "Pipeline(steps=[('scaler', StandardScaler()), ('model', SVC(C=5))])"
      ]
     },
     "execution_count": 501,
     "metadata": {},
     "output_type": "execute_result"
    }
   ],
   "source": [
    "svc_cv.best_estimator_"
   ]
  },
  {
   "cell_type": "code",
   "execution_count": 502,
   "id": "e592f305",
   "metadata": {},
   "outputs": [
    {
     "data": {
      "text/plain": [
       "{'model__C': 5, 'model__gamma': 'scale', 'model__kernel': 'rbf'}"
      ]
     },
     "execution_count": 502,
     "metadata": {},
     "output_type": "execute_result"
    }
   ],
   "source": [
    "svc_cv.best_params_"
   ]
  },
  {
   "cell_type": "code",
   "execution_count": 503,
   "id": "54d56fbf",
   "metadata": {},
   "outputs": [],
   "source": [
    "new_ys_pred = svc_cv.best_estimator_.predict(X_test)"
   ]
  },
  {
   "cell_type": "code",
   "execution_count": 504,
   "id": "311d05c9",
   "metadata": {},
   "outputs": [
    {
     "name": "stdout",
     "output_type": "stream",
     "text": [
      "              precision    recall  f1-score   support\n",
      "\n",
      "           0       0.80      0.86      0.83      1173\n",
      "           1       0.79      0.72      0.76       886\n",
      "\n",
      "    accuracy                           0.80      2059\n",
      "   macro avg       0.80      0.79      0.79      2059\n",
      "weighted avg       0.80      0.80      0.80      2059\n",
      "\n"
     ]
    }
   ],
   "source": [
    "print(classification_report(y_true=y_test, y_pred=new_ys_pred, labels= svc_pipeline.classes_))"
   ]
  },
  {
   "cell_type": "markdown",
   "id": "c82dfcec",
   "metadata": {},
   "source": [
    "### 3. MLP Classifier"
   ]
  },
  {
   "cell_type": "code",
   "execution_count": 374,
   "id": "96abaec8",
   "metadata": {},
   "outputs": [
    {
     "name": "stdout",
     "output_type": "stream",
     "text": [
      "Iteration 1, loss = 0.69060082\n",
      "Iteration 2, loss = 0.60727773\n",
      "Iteration 3, loss = 0.57793559\n",
      "Iteration 4, loss = 0.55789001\n",
      "Iteration 5, loss = 0.53950040\n",
      "Iteration 6, loss = 0.52580841\n",
      "Iteration 7, loss = 0.51664902\n",
      "Iteration 8, loss = 0.50400588\n",
      "Iteration 9, loss = 0.49195350\n",
      "Iteration 10, loss = 0.48388476\n",
      "Iteration 11, loss = 0.47656125\n",
      "Iteration 12, loss = 0.47220858\n",
      "Iteration 13, loss = 0.46199542\n",
      "Iteration 14, loss = 0.45434885\n",
      "Iteration 15, loss = 0.44759090\n",
      "Iteration 16, loss = 0.43945162\n",
      "Iteration 17, loss = 0.43622879\n",
      "Iteration 18, loss = 0.42860044\n",
      "Iteration 19, loss = 0.42432324\n",
      "Iteration 20, loss = 0.41973531\n",
      "Iteration 21, loss = 0.41165876\n",
      "Iteration 22, loss = 0.40912925\n",
      "Iteration 23, loss = 0.40264583\n",
      "Iteration 24, loss = 0.39879836\n",
      "Iteration 25, loss = 0.39572889\n",
      "Iteration 26, loss = 0.39254649\n",
      "Iteration 27, loss = 0.38553623\n",
      "Iteration 28, loss = 0.38394359\n",
      "Iteration 29, loss = 0.38130523\n",
      "Iteration 30, loss = 0.37158058\n",
      "Iteration 31, loss = 0.37206072\n",
      "Iteration 32, loss = 0.36850204\n",
      "Iteration 33, loss = 0.36439476\n",
      "Iteration 34, loss = 0.36301847\n",
      "Iteration 35, loss = 0.35889301\n",
      "Iteration 36, loss = 0.35373283\n",
      "Iteration 37, loss = 0.35386957\n",
      "Iteration 38, loss = 0.34871657\n",
      "Iteration 39, loss = 0.34689034\n",
      "Iteration 40, loss = 0.34232411\n",
      "Iteration 41, loss = 0.34200432\n",
      "Iteration 42, loss = 0.34193112\n",
      "Iteration 43, loss = 0.33492510\n",
      "Iteration 44, loss = 0.33636200\n",
      "Iteration 45, loss = 0.33246517\n",
      "Iteration 46, loss = 0.33304649\n",
      "Iteration 47, loss = 0.32843243\n",
      "Iteration 48, loss = 0.32564811\n",
      "Iteration 49, loss = 0.31910458\n",
      "Iteration 50, loss = 0.31722975\n",
      "Iteration 51, loss = 0.31948832\n",
      "Iteration 52, loss = 0.31725743\n",
      "Iteration 53, loss = 0.31339071\n",
      "Iteration 54, loss = 0.31057108\n",
      "Iteration 55, loss = 0.31226850\n",
      "Iteration 56, loss = 0.31240924\n",
      "Iteration 57, loss = 0.30413277\n",
      "Iteration 58, loss = 0.30467293\n",
      "Iteration 59, loss = 0.30506088\n",
      "Iteration 60, loss = 0.30215741\n",
      "Iteration 61, loss = 0.30213151\n",
      "Iteration 62, loss = 0.29857491\n",
      "Iteration 63, loss = 0.29787123\n",
      "Iteration 64, loss = 0.29341168\n",
      "Iteration 65, loss = 0.29556155\n",
      "Iteration 66, loss = 0.29113752\n",
      "Iteration 67, loss = 0.28919504\n",
      "Iteration 68, loss = 0.28821092\n",
      "Iteration 69, loss = 0.28492002\n",
      "Iteration 70, loss = 0.28397258\n",
      "Iteration 71, loss = 0.28345855\n",
      "Iteration 72, loss = 0.28149629\n",
      "Iteration 73, loss = 0.28223051\n",
      "Iteration 74, loss = 0.27971147\n",
      "Iteration 75, loss = 0.27753930\n",
      "Iteration 76, loss = 0.27870709\n",
      "Iteration 77, loss = 0.27426592\n",
      "Iteration 78, loss = 0.27683155\n",
      "Iteration 79, loss = 0.27427658\n",
      "Iteration 80, loss = 0.27288880\n",
      "Iteration 81, loss = 0.27677011\n",
      "Iteration 82, loss = 0.27357699\n",
      "Iteration 83, loss = 0.27054728\n",
      "Iteration 84, loss = 0.26812598\n",
      "Iteration 85, loss = 0.26378260\n",
      "Iteration 86, loss = 0.26787380\n",
      "Iteration 87, loss = 0.26619332\n",
      "Iteration 88, loss = 0.26233084\n",
      "Iteration 89, loss = 0.26406767\n",
      "Iteration 90, loss = 0.26056650\n",
      "Iteration 91, loss = 0.26620354\n",
      "Iteration 92, loss = 0.25856388\n",
      "Iteration 93, loss = 0.26146526\n",
      "Iteration 94, loss = 0.25683887\n",
      "Iteration 95, loss = 0.25324470\n",
      "Iteration 96, loss = 0.25565199\n",
      "Iteration 97, loss = 0.25758070\n",
      "Iteration 98, loss = 0.25473175\n",
      "Iteration 99, loss = 0.25449085\n",
      "Iteration 100, loss = 0.25677077\n",
      "Iteration 101, loss = 0.25025757\n",
      "Iteration 102, loss = 0.25227777\n",
      "Iteration 103, loss = 0.25424200\n",
      "Iteration 104, loss = 0.25218675\n",
      "Iteration 105, loss = 0.24796988\n",
      "Iteration 106, loss = 0.24792234\n",
      "Iteration 107, loss = 0.24448427\n",
      "Iteration 108, loss = 0.24449337\n",
      "Iteration 109, loss = 0.24423477\n",
      "Iteration 110, loss = 0.24850629\n",
      "Iteration 111, loss = 0.24637198\n",
      "Iteration 112, loss = 0.24790515\n",
      "Iteration 113, loss = 0.24210276\n",
      "Iteration 114, loss = 0.24005131\n",
      "Iteration 115, loss = 0.24346960\n",
      "Iteration 116, loss = 0.24047025\n",
      "Iteration 117, loss = 0.24302280\n",
      "Iteration 118, loss = 0.23901672\n",
      "Iteration 119, loss = 0.24001406\n",
      "Iteration 120, loss = 0.23740949\n",
      "Iteration 121, loss = 0.23536912\n",
      "Iteration 122, loss = 0.23450652\n",
      "Iteration 123, loss = 0.23901219\n",
      "Iteration 124, loss = 0.23274699\n",
      "Iteration 125, loss = 0.23704466\n",
      "Iteration 126, loss = 0.23143931\n",
      "Iteration 127, loss = 0.23279316\n",
      "Iteration 128, loss = 0.23321593\n",
      "Iteration 129, loss = 0.23206381\n",
      "Iteration 130, loss = 0.23069884\n",
      "Iteration 131, loss = 0.23361663\n",
      "Iteration 132, loss = 0.22923395\n",
      "Iteration 133, loss = 0.23285802\n",
      "Iteration 134, loss = 0.23197848\n",
      "Iteration 135, loss = 0.22921953\n",
      "Iteration 136, loss = 0.22773282\n",
      "Iteration 137, loss = 0.22676800\n",
      "Iteration 138, loss = 0.22584009\n",
      "Iteration 139, loss = 0.23187845\n",
      "Iteration 140, loss = 0.22775389\n",
      "Iteration 141, loss = 0.22659283\n",
      "Iteration 142, loss = 0.22512051\n",
      "Iteration 143, loss = 0.22717295\n",
      "Iteration 144, loss = 0.23460077\n",
      "Iteration 145, loss = 0.22822679\n",
      "Iteration 146, loss = 0.23001201\n",
      "Iteration 147, loss = 0.23206467\n",
      "Iteration 148, loss = 0.22443293\n",
      "Iteration 149, loss = 0.23022180\n",
      "Iteration 150, loss = 0.22889849\n",
      "Iteration 151, loss = 0.23253859\n",
      "Iteration 152, loss = 0.22265350\n",
      "Iteration 153, loss = 0.22376503\n",
      "Iteration 154, loss = 0.22230214\n",
      "Iteration 155, loss = 0.22481862\n",
      "Iteration 156, loss = 0.22829575\n",
      "Iteration 157, loss = 0.22166596\n",
      "Iteration 158, loss = 0.22518067\n",
      "Iteration 159, loss = 0.21862031\n",
      "Iteration 160, loss = 0.22071689\n",
      "Iteration 161, loss = 0.22050492\n",
      "Iteration 162, loss = 0.22412293\n",
      "Iteration 163, loss = 0.21766289\n",
      "Iteration 164, loss = 0.22527524\n",
      "Iteration 165, loss = 0.22216792\n",
      "Iteration 166, loss = 0.22100241\n",
      "Iteration 167, loss = 0.21944837\n",
      "Iteration 168, loss = 0.22017996\n",
      "Iteration 169, loss = 0.21824310\n",
      "Iteration 170, loss = 0.21820396\n",
      "Iteration 171, loss = 0.21757684\n",
      "Iteration 172, loss = 0.21598189\n",
      "Iteration 173, loss = 0.21587876\n",
      "Iteration 174, loss = 0.21758829\n",
      "Iteration 175, loss = 0.21603937\n",
      "Iteration 176, loss = 0.21556752\n",
      "Iteration 177, loss = 0.21387739\n",
      "Iteration 178, loss = 0.21766109\n",
      "Iteration 179, loss = 0.21262350\n",
      "Iteration 180, loss = 0.21433261\n",
      "Iteration 181, loss = 0.21514219\n",
      "Iteration 182, loss = 0.21797503\n",
      "Iteration 183, loss = 0.21337231\n",
      "Iteration 184, loss = 0.21096753\n",
      "Iteration 185, loss = 0.20896056\n",
      "Iteration 186, loss = 0.21366195\n",
      "Iteration 187, loss = 0.21399975\n",
      "Iteration 188, loss = 0.21607136\n",
      "Iteration 189, loss = 0.21303207\n",
      "Iteration 190, loss = 0.21290080\n",
      "Iteration 191, loss = 0.21579328\n",
      "Iteration 192, loss = 0.21219327\n",
      "Iteration 193, loss = 0.21740702\n",
      "Iteration 194, loss = 0.21110464\n",
      "Iteration 195, loss = 0.21305468\n",
      "Iteration 196, loss = 0.21022280\n",
      "Training loss did not improve more than tol=0.000100 for 10 consecutive epochs. Stopping.\n",
      "CPU times: user 17.7 s, sys: 25.5 s, total: 43.1 s\n",
      "Wall time: 6.13 s\n"
     ]
    },
    {
     "data": {
      "text/html": [
       "<style>div.sk-top-container {color: black;background-color: white;}div.sk-toggleable {background-color: white;}label.sk-toggleable__label {cursor: pointer;display: block;width: 100%;margin-bottom: 0;padding: 0.2em 0.3em;box-sizing: border-box;text-align: center;}div.sk-toggleable__content {max-height: 0;max-width: 0;overflow: hidden;text-align: left;background-color: #f0f8ff;}div.sk-toggleable__content pre {margin: 0.2em;color: black;border-radius: 0.25em;background-color: #f0f8ff;}input.sk-toggleable__control:checked~div.sk-toggleable__content {max-height: 200px;max-width: 100%;overflow: auto;}div.sk-estimator input.sk-toggleable__control:checked~label.sk-toggleable__label {background-color: #d4ebff;}div.sk-label input.sk-toggleable__control:checked~label.sk-toggleable__label {background-color: #d4ebff;}input.sk-hidden--visually {border: 0;clip: rect(1px 1px 1px 1px);clip: rect(1px, 1px, 1px, 1px);height: 1px;margin: -1px;overflow: hidden;padding: 0;position: absolute;width: 1px;}div.sk-estimator {font-family: monospace;background-color: #f0f8ff;margin: 0.25em 0.25em;border: 1px dotted black;border-radius: 0.25em;box-sizing: border-box;}div.sk-estimator:hover {background-color: #d4ebff;}div.sk-parallel-item::after {content: \"\";width: 100%;border-bottom: 1px solid gray;flex-grow: 1;}div.sk-label:hover label.sk-toggleable__label {background-color: #d4ebff;}div.sk-serial::before {content: \"\";position: absolute;border-left: 1px solid gray;box-sizing: border-box;top: 2em;bottom: 0;left: 50%;}div.sk-serial {display: flex;flex-direction: column;align-items: center;background-color: white;}div.sk-item {z-index: 1;}div.sk-parallel {display: flex;align-items: stretch;justify-content: center;background-color: white;}div.sk-parallel-item {display: flex;flex-direction: column;position: relative;background-color: white;}div.sk-parallel-item:first-child::after {align-self: flex-end;width: 50%;}div.sk-parallel-item:last-child::after {align-self: flex-start;width: 50%;}div.sk-parallel-item:only-child::after {width: 0;}div.sk-dashed-wrapped {border: 1px dashed gray;margin: 0.2em;box-sizing: border-box;padding-bottom: 0.1em;background-color: white;position: relative;}div.sk-label label {font-family: monospace;font-weight: bold;background-color: white;display: inline-block;line-height: 1.2em;}div.sk-label-container {position: relative;z-index: 2;text-align: center;}div.sk-container {display: inline-block;position: relative;}</style><div class=\"sk-top-container\"><div class=\"sk-container\"><div class=\"sk-item sk-dashed-wrapped\"><div class=\"sk-label-container\"><div class=\"sk-label sk-toggleable\"><input class=\"sk-toggleable__control sk-hidden--visually\" id=\"c4b894ec-7b65-4ce1-87c0-db39428366d2\" type=\"checkbox\" ><label class=\"sk-toggleable__label\" for=\"c4b894ec-7b65-4ce1-87c0-db39428366d2\">Pipeline</label><div class=\"sk-toggleable__content\"><pre>Pipeline(steps=[('scaler', StandardScaler()),\n",
       "                ('model',\n",
       "                 MLPClassifier(max_iter=300, random_state=42, verbose=True))])</pre></div></div></div><div class=\"sk-serial\"><div class=\"sk-item\"><div class=\"sk-estimator sk-toggleable\"><input class=\"sk-toggleable__control sk-hidden--visually\" id=\"9ad14027-85f3-4862-b522-d2438fd7ff8d\" type=\"checkbox\" ><label class=\"sk-toggleable__label\" for=\"9ad14027-85f3-4862-b522-d2438fd7ff8d\">StandardScaler</label><div class=\"sk-toggleable__content\"><pre>StandardScaler()</pre></div></div></div><div class=\"sk-item\"><div class=\"sk-estimator sk-toggleable\"><input class=\"sk-toggleable__control sk-hidden--visually\" id=\"abe36fd9-e810-42ba-8814-7e59d25c6def\" type=\"checkbox\" ><label class=\"sk-toggleable__label\" for=\"abe36fd9-e810-42ba-8814-7e59d25c6def\">MLPClassifier</label><div class=\"sk-toggleable__content\"><pre>MLPClassifier(max_iter=300, random_state=42, verbose=True)</pre></div></div></div></div></div></div></div>"
      ],
      "text/plain": [
       "Pipeline(steps=[('scaler', StandardScaler()),\n",
       "                ('model',\n",
       "                 MLPClassifier(max_iter=300, random_state=42, verbose=True))])"
      ]
     },
     "execution_count": 374,
     "metadata": {},
     "output_type": "execute_result"
    }
   ],
   "source": [
    "%%time\n",
    "mlp_pipeline = Pipeline(steps=[\n",
    "    ('scaler', StandardScaler()),\n",
    "    ('model', MLPClassifier(random_state=42, max_iter=300, validation_fraction = 0.1, verbose = True))\n",
    "])\n",
    "mlp_pipeline.fit(X_train, y_train)"
   ]
  },
  {
   "cell_type": "code",
   "execution_count": 360,
   "id": "327bf612",
   "metadata": {},
   "outputs": [],
   "source": [
    "pred_mlp = mlp_pipeline.predict(X_test)\n",
    "cm_mlp = confusion_matrix(y_true=y_test, y_pred=pred_mlp, labels = mlp_pipeline.classes_)\n",
    "disp = ConfusionMatrixDisplay(confusion_matrix=cm_mlp, display_labels=mlp_pipeline.classes_)"
   ]
  },
  {
   "cell_type": "code",
   "execution_count": 361,
   "id": "d3bf737e",
   "metadata": {},
   "outputs": [],
   "source": [
    "FP=cm_mlp[0,1]\n",
    "FN=cm_mlp[1,0]\n",
    "TP=cm_mlp[1,1]\n",
    "TN=cm_mlp[0,0]\n",
    "\n",
    "TPR=TP/(TP+FN)\n",
    "TNR=TN/(TN+FP)\n",
    "FPR=FP/(FP+TN)\n",
    "FNR=FN/(TP+FN)"
   ]
  },
  {
   "cell_type": "code",
   "execution_count": 362,
   "id": "f1aa29b4",
   "metadata": {},
   "outputs": [
    {
     "data": {
      "text/plain": [
       "(0.7720090293453724,\n",
       " 0.7945439045183291,\n",
       " 0.20545609548167093,\n",
       " 0.22799097065462753)"
      ]
     },
     "execution_count": 362,
     "metadata": {},
     "output_type": "execute_result"
    }
   ],
   "source": [
    "TPR, TNR, FPR, FNR"
   ]
  },
  {
   "cell_type": "code",
   "execution_count": 363,
   "id": "0b65d586",
   "metadata": {},
   "outputs": [
    {
     "name": "stdout",
     "output_type": "stream",
     "text": [
      "              precision    recall  f1-score   support\n",
      "\n",
      "           0      0.822     0.795     0.808      1173\n",
      "           1      0.739     0.772     0.755       886\n",
      "\n",
      "    accuracy                          0.785      2059\n",
      "   macro avg      0.781     0.783     0.782      2059\n",
      "weighted avg      0.786     0.785     0.785      2059\n",
      "\n"
     ]
    }
   ],
   "source": [
    "print(classification_report(y_true=y_test, y_pred=pred_mlp,\n",
    "                            labels= mlp_pipeline.classes_, digits=3))\n",
    "   "
   ]
  },
  {
   "cell_type": "markdown",
   "id": "d2cfbe1f",
   "metadata": {},
   "source": [
    "#### Tune MLP HP"
   ]
  },
  {
   "cell_type": "code",
   "execution_count": null,
   "id": "b45f0948",
   "metadata": {},
   "outputs": [],
   "source": [
    "# hidden_layer_sizes = [(10,), (20,), (30,), (40,)] # default=(100,)\n",
    "# activation = {‘identity’, ‘logistic’, ‘tanh’, ‘relu’} #  default=’relu’\n",
    "# solver = {‘lbfgs’, ‘sgd’, ‘adam’} # default=’adam’\n",
    "# alphafloat =  default=0.0001\n",
    "# batch_sizeint = [batch_size=min(200, n_samples)]# default=’auto’\n",
    "# learning_rate = [‘constant’, ‘invscaling’, ‘adaptive’], default=’constant’\n"
   ]
  },
  {
   "cell_type": "code",
   "execution_count": 353,
   "id": "caae9510",
   "metadata": {},
   "outputs": [
    {
     "name": "stdout",
     "output_type": "stream",
     "text": [
      "Fitting 5 folds for each of 108 candidates, totalling 540 fits\n",
      "Best hyperparameters: {'activation': 'logistic', 'alpha': 0.001, 'hidden_layer_sizes': (100,), 'learning_rate': 'invscaling'}\n"
     ]
    }
   ],
   "source": [
    "param_grid = {\n",
    "    'hidden_layer_sizes': [(30,), (50,), (100,), (100,)],\n",
    "    'activation': ['logistic', 'relu', 'relu'],\n",
    "    'alpha': [0.0001, 0.001, 0.01],\n",
    "    'learning_rate': ['constant', 'adaptive', 'invscaling']\n",
    "}\n",
    "\n",
    "mlp = MLPClassifier(max_iter=1000)\n",
    "\n",
    "# Create a GridSearchCV object to perform hyperparameter tuning\n",
    "grid_search = GridSearchCV(mlp, param_grid=param_grid, cv=5, verbose=1)\n",
    "\n",
    "# Train the GridSearchCV object on the validating data\n",
    "grid_search.fit(X_val, y_val)\n",
    "\n",
    "# Print the best hyperparameters found by GridSearchCV\n",
    "print(\"Best hyperparameters:\", grid_search.best_params_)"
   ]
  },
  {
   "cell_type": "code",
   "execution_count": 355,
   "id": "2ec37e52",
   "metadata": {},
   "outputs": [
    {
     "name": "stdout",
     "output_type": "stream",
     "text": [
      "Accuracy: 0.7095677513355998\n"
     ]
    }
   ],
   "source": [
    "best_mlp = grid_search.best_estimator_\n",
    "y_pred = best_mlp.predict(X_test)\n",
    "accuracy = best_mlp.score(X_test, y_test)\n",
    "print(\"Accuracy:\", accuracy)"
   ]
  },
  {
   "cell_type": "code",
   "execution_count": null,
   "id": "a3badeb3",
   "metadata": {},
   "outputs": [],
   "source": []
  }
 ],
 "metadata": {
  "kernelspec": {
   "display_name": "Python 3",
   "language": "python",
   "name": "python3"
  },
  "language_info": {
   "codemirror_mode": {
    "name": "ipython",
    "version": 3
   },
   "file_extension": ".py",
   "mimetype": "text/x-python",
   "name": "python",
   "nbconvert_exporter": "python",
   "pygments_lexer": "ipython3",
   "version": "3.8.8"
  }
 },
 "nbformat": 4,
 "nbformat_minor": 5
}
